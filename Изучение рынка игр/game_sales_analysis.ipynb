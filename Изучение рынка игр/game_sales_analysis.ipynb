{
 "cells": [
  {
   "cell_type": "markdown",
   "metadata": {},
   "source": [
    "### Описание проекта"
   ]
  },
  {
   "cell_type": "markdown",
   "metadata": {},
   "source": [
    "Вы работаете в интернет-магазине «Стримчик», который продаёт по всему миру компьютерные игры. Из открытых источников доступны исторические данные о продажах игр, оценки пользователей и экспертов, жанры и платформы (например, Xbox или PlayStation). Вам нужно выявить определяющие успешность игры закономерности. Это позволит сделать ставку на потенциально популярный продукт и спланировать рекламные кампании.\n",
    "\n",
    "Перед вами данные до 2016 года. Представим, что сейчас декабрь 2016 г., и вы планируете кампанию на 2017-й. Нужно отработать принцип работы с данными. Неважно, прогнозируете ли вы продажи на 2017 год по данным 2016-го или же 2027-й — по данным 2026 года.\n",
    "\n",
    "В наборе данных попадается аббревиатура ESRB (Entertainment Software Rating Board) — это ассоциация, определяющая возрастной рейтинг компьютерных игр. ESRB оценивает игровой контент и присваивает ему подходящую возрастную категорию, например, «Для взрослых», «Для детей младшего возраста» или «Для подростков»."
   ]
  },
  {
   "cell_type": "markdown",
   "metadata": {},
   "source": [
    "### Описание данных"
   ]
  },
  {
   "cell_type": "markdown",
   "metadata": {},
   "source": [
    "- Name — название игры\n",
    "- Platform — платформа\n",
    "- Year_of_Release — год выпуска\n",
    "- Genre — жанр игры\n",
    "- NA_sales — продажи в Северной Америке (миллионы проданных копий)\n",
    "- EU_sales — продажи в Европе (миллионы проданных копий)\n",
    "- JP_sales — продажи в Японии (миллионы проданных копий)\n",
    "- Other_sales — продажи в других странах (миллионы проданных копий)\n",
    "- Critic_Score — оценка критиков (максимум 100)\n",
    "- User_Score — оценка пользователей (максимум 10)\n",
    "- Rating — рейтинг от организации ESRB (англ. Entertainment Software Rating Board). Эта ассоциация определяет рейтинг компьютерных игр и присваивает им подходящую возрастную категорию.\n",
    "\n",
    "Данные за 2016 год могут быть неполными."
   ]
  },
  {
   "cell_type": "markdown",
   "metadata": {},
   "source": [
    "### Шаг 1. Откройте файл с данными и изучите общую информацию"
   ]
  },
  {
   "cell_type": "code",
   "execution_count": 1,
   "metadata": {},
   "outputs": [],
   "source": [
    "import pandas as pd\n",
    "import numpy as np\n",
    "import matplotlib.pyplot as plt\n",
    "import seaborn as sns\n",
    "from math import factorial\n",
    "from scipy import stats as st\n",
    "\n",
    "pd.set_option('display.max_columns', None)\n",
    "pd.options.display.float_format = '{:,.2f}'.format"
   ]
  },
  {
   "cell_type": "code",
   "execution_count": 2,
   "metadata": {},
   "outputs": [],
   "source": [
    "df = pd.read_csv('/datasets/games.csv')"
   ]
  },
  {
   "cell_type": "code",
   "execution_count": 3,
   "metadata": {},
   "outputs": [
    {
     "data": {
      "text/html": [
       "<div>\n",
       "<style scoped>\n",
       "    .dataframe tbody tr th:only-of-type {\n",
       "        vertical-align: middle;\n",
       "    }\n",
       "\n",
       "    .dataframe tbody tr th {\n",
       "        vertical-align: top;\n",
       "    }\n",
       "\n",
       "    .dataframe thead th {\n",
       "        text-align: right;\n",
       "    }\n",
       "</style>\n",
       "<table border=\"1\" class=\"dataframe\">\n",
       "  <thead>\n",
       "    <tr style=\"text-align: right;\">\n",
       "      <th></th>\n",
       "      <th>Name</th>\n",
       "      <th>Platform</th>\n",
       "      <th>Year_of_Release</th>\n",
       "      <th>Genre</th>\n",
       "      <th>NA_sales</th>\n",
       "      <th>EU_sales</th>\n",
       "      <th>JP_sales</th>\n",
       "      <th>Other_sales</th>\n",
       "      <th>Critic_Score</th>\n",
       "      <th>User_Score</th>\n",
       "      <th>Rating</th>\n",
       "    </tr>\n",
       "  </thead>\n",
       "  <tbody>\n",
       "    <tr>\n",
       "      <td>3805</td>\n",
       "      <td>The Warriors</td>\n",
       "      <td>PS2</td>\n",
       "      <td>2,005.00</td>\n",
       "      <td>Action</td>\n",
       "      <td>0.44</td>\n",
       "      <td>0.02</td>\n",
       "      <td>0.00</td>\n",
       "      <td>0.07</td>\n",
       "      <td>84.00</td>\n",
       "      <td>8.5</td>\n",
       "      <td>M</td>\n",
       "    </tr>\n",
       "    <tr>\n",
       "      <td>10240</td>\n",
       "      <td>Bodycount</td>\n",
       "      <td>X360</td>\n",
       "      <td>2,011.00</td>\n",
       "      <td>Shooter</td>\n",
       "      <td>0.07</td>\n",
       "      <td>0.03</td>\n",
       "      <td>0.00</td>\n",
       "      <td>0.01</td>\n",
       "      <td>53.00</td>\n",
       "      <td>4.7</td>\n",
       "      <td>M</td>\n",
       "    </tr>\n",
       "    <tr>\n",
       "      <td>1304</td>\n",
       "      <td>SoulCalibur IV</td>\n",
       "      <td>PS3</td>\n",
       "      <td>2,008.00</td>\n",
       "      <td>Fighting</td>\n",
       "      <td>0.72</td>\n",
       "      <td>0.40</td>\n",
       "      <td>0.14</td>\n",
       "      <td>0.20</td>\n",
       "      <td>85.00</td>\n",
       "      <td>7.9</td>\n",
       "      <td>T</td>\n",
       "    </tr>\n",
       "    <tr>\n",
       "      <td>15342</td>\n",
       "      <td>Dakar 2: The World's Ultimate Rally</td>\n",
       "      <td>XB</td>\n",
       "      <td>2,003.00</td>\n",
       "      <td>Racing</td>\n",
       "      <td>0.02</td>\n",
       "      <td>0.00</td>\n",
       "      <td>0.00</td>\n",
       "      <td>0.00</td>\n",
       "      <td>nan</td>\n",
       "      <td>NaN</td>\n",
       "      <td>NaN</td>\n",
       "    </tr>\n",
       "    <tr>\n",
       "      <td>1046</td>\n",
       "      <td>Kanshuu Nippon Joushikiryoku Kentei Kyoukai: I...</td>\n",
       "      <td>DS</td>\n",
       "      <td>2,006.00</td>\n",
       "      <td>Misc</td>\n",
       "      <td>0.00</td>\n",
       "      <td>0.00</td>\n",
       "      <td>1.71</td>\n",
       "      <td>0.00</td>\n",
       "      <td>nan</td>\n",
       "      <td>NaN</td>\n",
       "      <td>NaN</td>\n",
       "    </tr>\n",
       "    <tr>\n",
       "      <td>1654</td>\n",
       "      <td>Final Fantasy IV</td>\n",
       "      <td>DS</td>\n",
       "      <td>2,007.00</td>\n",
       "      <td>Simulation</td>\n",
       "      <td>0.51</td>\n",
       "      <td>0.04</td>\n",
       "      <td>0.62</td>\n",
       "      <td>0.05</td>\n",
       "      <td>85.00</td>\n",
       "      <td>7.7</td>\n",
       "      <td>E10+</td>\n",
       "    </tr>\n",
       "    <tr>\n",
       "      <td>9213</td>\n",
       "      <td>Dynasty Warriors 7: Empires</td>\n",
       "      <td>PS3</td>\n",
       "      <td>2,012.00</td>\n",
       "      <td>Action</td>\n",
       "      <td>0.00</td>\n",
       "      <td>0.00</td>\n",
       "      <td>0.14</td>\n",
       "      <td>0.00</td>\n",
       "      <td>63.00</td>\n",
       "      <td>8</td>\n",
       "      <td>T</td>\n",
       "    </tr>\n",
       "    <tr>\n",
       "      <td>11172</td>\n",
       "      <td>WRC 5: FIA World Rally Championship</td>\n",
       "      <td>PS3</td>\n",
       "      <td>2,015.00</td>\n",
       "      <td>Sports</td>\n",
       "      <td>0.02</td>\n",
       "      <td>0.05</td>\n",
       "      <td>0.00</td>\n",
       "      <td>0.01</td>\n",
       "      <td>nan</td>\n",
       "      <td>NaN</td>\n",
       "      <td>NaN</td>\n",
       "    </tr>\n",
       "    <tr>\n",
       "      <td>12486</td>\n",
       "      <td>Cold Fear</td>\n",
       "      <td>XB</td>\n",
       "      <td>2,005.00</td>\n",
       "      <td>Action</td>\n",
       "      <td>0.05</td>\n",
       "      <td>0.01</td>\n",
       "      <td>0.00</td>\n",
       "      <td>0.00</td>\n",
       "      <td>71.00</td>\n",
       "      <td>7.6</td>\n",
       "      <td>M</td>\n",
       "    </tr>\n",
       "    <tr>\n",
       "      <td>1863</td>\n",
       "      <td>SingStar Legends</td>\n",
       "      <td>PS2</td>\n",
       "      <td>2,006.00</td>\n",
       "      <td>Misc</td>\n",
       "      <td>0.12</td>\n",
       "      <td>0.75</td>\n",
       "      <td>0.00</td>\n",
       "      <td>0.23</td>\n",
       "      <td>76.00</td>\n",
       "      <td>tbd</td>\n",
       "      <td>T</td>\n",
       "    </tr>\n",
       "  </tbody>\n",
       "</table>\n",
       "</div>"
      ],
      "text/plain": [
       "                                                    Name Platform  \\\n",
       "3805                                        The Warriors      PS2   \n",
       "10240                                          Bodycount     X360   \n",
       "1304                                      SoulCalibur IV      PS3   \n",
       "15342                Dakar 2: The World's Ultimate Rally       XB   \n",
       "1046   Kanshuu Nippon Joushikiryoku Kentei Kyoukai: I...       DS   \n",
       "1654                                    Final Fantasy IV       DS   \n",
       "9213                         Dynasty Warriors 7: Empires      PS3   \n",
       "11172                WRC 5: FIA World Rally Championship      PS3   \n",
       "12486                                          Cold Fear       XB   \n",
       "1863                                    SingStar Legends      PS2   \n",
       "\n",
       "       Year_of_Release       Genre  NA_sales  EU_sales  JP_sales  Other_sales  \\\n",
       "3805          2,005.00      Action      0.44      0.02      0.00         0.07   \n",
       "10240         2,011.00     Shooter      0.07      0.03      0.00         0.01   \n",
       "1304          2,008.00    Fighting      0.72      0.40      0.14         0.20   \n",
       "15342         2,003.00      Racing      0.02      0.00      0.00         0.00   \n",
       "1046          2,006.00        Misc      0.00      0.00      1.71         0.00   \n",
       "1654          2,007.00  Simulation      0.51      0.04      0.62         0.05   \n",
       "9213          2,012.00      Action      0.00      0.00      0.14         0.00   \n",
       "11172         2,015.00      Sports      0.02      0.05      0.00         0.01   \n",
       "12486         2,005.00      Action      0.05      0.01      0.00         0.00   \n",
       "1863          2,006.00        Misc      0.12      0.75      0.00         0.23   \n",
       "\n",
       "       Critic_Score User_Score Rating  \n",
       "3805          84.00        8.5      M  \n",
       "10240         53.00        4.7      M  \n",
       "1304          85.00        7.9      T  \n",
       "15342           nan        NaN    NaN  \n",
       "1046            nan        NaN    NaN  \n",
       "1654          85.00        7.7   E10+  \n",
       "9213          63.00          8      T  \n",
       "11172           nan        NaN    NaN  \n",
       "12486         71.00        7.6      M  \n",
       "1863          76.00        tbd      T  "
      ]
     },
     "execution_count": 3,
     "metadata": {},
     "output_type": "execute_result"
    }
   ],
   "source": [
    "df.sample(10)"
   ]
  },
  {
   "cell_type": "markdown",
   "metadata": {},
   "source": [
    "Визуально, что необходимо изменить:\n",
    "\n",
    "- В дальнейшем изменим названия столбцов для удобства работы\n",
    "- Год релиза в некорректной форме\n",
    "- Приведем все к нижнему регистру"
   ]
  },
  {
   "cell_type": "code",
   "execution_count": 4,
   "metadata": {},
   "outputs": [
    {
     "name": "stdout",
     "output_type": "stream",
     "text": [
      "<class 'pandas.core.frame.DataFrame'>\n",
      "RangeIndex: 16715 entries, 0 to 16714\n",
      "Data columns (total 11 columns):\n",
      "Name               16713 non-null object\n",
      "Platform           16715 non-null object\n",
      "Year_of_Release    16446 non-null float64\n",
      "Genre              16713 non-null object\n",
      "NA_sales           16715 non-null float64\n",
      "EU_sales           16715 non-null float64\n",
      "JP_sales           16715 non-null float64\n",
      "Other_sales        16715 non-null float64\n",
      "Critic_Score       8137 non-null float64\n",
      "User_Score         10014 non-null object\n",
      "Rating             9949 non-null object\n",
      "dtypes: float64(6), object(5)\n",
      "memory usage: 1.4+ MB\n"
     ]
    }
   ],
   "source": [
    "df.info()"
   ]
  },
  {
   "cell_type": "markdown",
   "metadata": {},
   "source": [
    "Есть пропуски, в дальнейшем подумаем, что с ними делать"
   ]
  },
  {
   "cell_type": "code",
   "execution_count": 5,
   "metadata": {},
   "outputs": [
    {
     "data": {
      "text/plain": [
       "Name                  2\n",
       "Platform              0\n",
       "Year_of_Release     269\n",
       "Genre                 2\n",
       "NA_sales              0\n",
       "EU_sales              0\n",
       "JP_sales              0\n",
       "Other_sales           0\n",
       "Critic_Score       8578\n",
       "User_Score         6701\n",
       "Rating             6766\n",
       "dtype: int64"
      ]
     },
     "execution_count": 5,
     "metadata": {},
     "output_type": "execute_result"
    }
   ],
   "source": [
    "df.isnull().sum()"
   ]
  },
  {
   "cell_type": "code",
   "execution_count": 6,
   "metadata": {},
   "outputs": [
    {
     "data": {
      "text/plain": [
       "Platform           0.00\n",
       "NA_sales           0.00\n",
       "EU_sales           0.00\n",
       "JP_sales           0.00\n",
       "Other_sales        0.00\n",
       "Name               0.01\n",
       "Genre              0.01\n",
       "Year_of_Release    1.61\n",
       "User_Score        40.09\n",
       "Rating            40.48\n",
       "Critic_Score      51.32\n",
       "dtype: float64"
      ]
     },
     "execution_count": 6,
     "metadata": {},
     "output_type": "execute_result"
    }
   ],
   "source": [
    "df.isnull().sum().sort_values() / df.shape[0] * 100"
   ]
  },
  {
   "cell_type": "code",
   "execution_count": 7,
   "metadata": {},
   "outputs": [
    {
     "data": {
      "text/plain": [
       "0"
      ]
     },
     "execution_count": 7,
     "metadata": {},
     "output_type": "execute_result"
    }
   ],
   "source": [
    "df.duplicated().sum()"
   ]
  },
  {
   "cell_type": "markdown",
   "metadata": {},
   "source": [
    "На данном этапе дубликатов нет"
   ]
  },
  {
   "cell_type": "code",
   "execution_count": 8,
   "metadata": {},
   "outputs": [
    {
     "data": {
      "text/html": [
       "<div>\n",
       "<style scoped>\n",
       "    .dataframe tbody tr th:only-of-type {\n",
       "        vertical-align: middle;\n",
       "    }\n",
       "\n",
       "    .dataframe tbody tr th {\n",
       "        vertical-align: top;\n",
       "    }\n",
       "\n",
       "    .dataframe thead th {\n",
       "        text-align: right;\n",
       "    }\n",
       "</style>\n",
       "<table border=\"1\" class=\"dataframe\">\n",
       "  <thead>\n",
       "    <tr style=\"text-align: right;\">\n",
       "      <th></th>\n",
       "      <th>Year_of_Release</th>\n",
       "      <th>NA_sales</th>\n",
       "      <th>EU_sales</th>\n",
       "      <th>JP_sales</th>\n",
       "      <th>Other_sales</th>\n",
       "      <th>Critic_Score</th>\n",
       "    </tr>\n",
       "  </thead>\n",
       "  <tbody>\n",
       "    <tr>\n",
       "      <td>count</td>\n",
       "      <td>16,446.00</td>\n",
       "      <td>16,715.00</td>\n",
       "      <td>16,715.00</td>\n",
       "      <td>16,715.00</td>\n",
       "      <td>16,715.00</td>\n",
       "      <td>8,137.00</td>\n",
       "    </tr>\n",
       "    <tr>\n",
       "      <td>mean</td>\n",
       "      <td>2,006.48</td>\n",
       "      <td>0.26</td>\n",
       "      <td>0.15</td>\n",
       "      <td>0.08</td>\n",
       "      <td>0.05</td>\n",
       "      <td>68.97</td>\n",
       "    </tr>\n",
       "    <tr>\n",
       "      <td>std</td>\n",
       "      <td>5.88</td>\n",
       "      <td>0.81</td>\n",
       "      <td>0.50</td>\n",
       "      <td>0.31</td>\n",
       "      <td>0.19</td>\n",
       "      <td>13.94</td>\n",
       "    </tr>\n",
       "    <tr>\n",
       "      <td>min</td>\n",
       "      <td>1,980.00</td>\n",
       "      <td>0.00</td>\n",
       "      <td>0.00</td>\n",
       "      <td>0.00</td>\n",
       "      <td>0.00</td>\n",
       "      <td>13.00</td>\n",
       "    </tr>\n",
       "    <tr>\n",
       "      <td>25%</td>\n",
       "      <td>2,003.00</td>\n",
       "      <td>0.00</td>\n",
       "      <td>0.00</td>\n",
       "      <td>0.00</td>\n",
       "      <td>0.00</td>\n",
       "      <td>60.00</td>\n",
       "    </tr>\n",
       "    <tr>\n",
       "      <td>50%</td>\n",
       "      <td>2,007.00</td>\n",
       "      <td>0.08</td>\n",
       "      <td>0.02</td>\n",
       "      <td>0.00</td>\n",
       "      <td>0.01</td>\n",
       "      <td>71.00</td>\n",
       "    </tr>\n",
       "    <tr>\n",
       "      <td>75%</td>\n",
       "      <td>2,010.00</td>\n",
       "      <td>0.24</td>\n",
       "      <td>0.11</td>\n",
       "      <td>0.04</td>\n",
       "      <td>0.03</td>\n",
       "      <td>79.00</td>\n",
       "    </tr>\n",
       "    <tr>\n",
       "      <td>max</td>\n",
       "      <td>2,016.00</td>\n",
       "      <td>41.36</td>\n",
       "      <td>28.96</td>\n",
       "      <td>10.22</td>\n",
       "      <td>10.57</td>\n",
       "      <td>98.00</td>\n",
       "    </tr>\n",
       "  </tbody>\n",
       "</table>\n",
       "</div>"
      ],
      "text/plain": [
       "       Year_of_Release  NA_sales  EU_sales  JP_sales  Other_sales  \\\n",
       "count        16,446.00 16,715.00 16,715.00 16,715.00    16,715.00   \n",
       "mean          2,006.48      0.26      0.15      0.08         0.05   \n",
       "std               5.88      0.81      0.50      0.31         0.19   \n",
       "min           1,980.00      0.00      0.00      0.00         0.00   \n",
       "25%           2,003.00      0.00      0.00      0.00         0.00   \n",
       "50%           2,007.00      0.08      0.02      0.00         0.01   \n",
       "75%           2,010.00      0.24      0.11      0.04         0.03   \n",
       "max           2,016.00     41.36     28.96     10.22        10.57   \n",
       "\n",
       "       Critic_Score  \n",
       "count      8,137.00  \n",
       "mean          68.97  \n",
       "std           13.94  \n",
       "min           13.00  \n",
       "25%           60.00  \n",
       "50%           71.00  \n",
       "75%           79.00  \n",
       "max           98.00  "
      ]
     },
     "execution_count": 8,
     "metadata": {},
     "output_type": "execute_result"
    }
   ],
   "source": [
    "df.describe()"
   ]
  },
  {
   "cell_type": "code",
   "execution_count": 9,
   "metadata": {},
   "outputs": [
    {
     "data": {
      "text/plain": [
       "array(['Wii', 'NES', 'GB', 'DS', 'X360', 'PS3', 'PS2', 'SNES', 'GBA',\n",
       "       'PS4', '3DS', 'N64', 'PS', 'XB', 'PC', '2600', 'PSP', 'XOne',\n",
       "       'WiiU', 'GC', 'GEN', 'DC', 'PSV', 'SAT', 'SCD', 'WS', 'NG', 'TG16',\n",
       "       '3DO', 'GG', 'PCFX'], dtype=object)"
      ]
     },
     "execution_count": 9,
     "metadata": {},
     "output_type": "execute_result"
    }
   ],
   "source": [
    "df['Platform'].unique()"
   ]
  },
  {
   "cell_type": "code",
   "execution_count": 10,
   "metadata": {},
   "outputs": [
    {
     "data": {
      "text/plain": [
       "array(['Sports', 'Platform', 'Racing', 'Role-Playing', 'Puzzle', 'Misc',\n",
       "       'Shooter', 'Simulation', 'Action', 'Fighting', 'Adventure',\n",
       "       'Strategy', nan], dtype=object)"
      ]
     },
     "execution_count": 10,
     "metadata": {},
     "output_type": "execute_result"
    }
   ],
   "source": [
    "df['Genre'].unique()"
   ]
  },
  {
   "cell_type": "code",
   "execution_count": 11,
   "metadata": {},
   "outputs": [
    {
     "data": {
      "text/plain": [
       "array(['E', nan, 'M', 'T', 'E10+', 'K-A', 'AO', 'EC', 'RP'], dtype=object)"
      ]
     },
     "execution_count": 11,
     "metadata": {},
     "output_type": "execute_result"
    }
   ],
   "source": [
    "df['Rating'].unique()"
   ]
  },
  {
   "cell_type": "code",
   "execution_count": 12,
   "metadata": {},
   "outputs": [
    {
     "data": {
      "text/plain": [
       "array(['8', nan, '8.3', '8.5', '6.6', '8.4', '8.6', '7.7', '6.3', '7.4',\n",
       "       '8.2', '9', '7.9', '8.1', '8.7', '7.1', '3.4', '5.3', '4.8', '3.2',\n",
       "       '8.9', '6.4', '7.8', '7.5', '2.6', '7.2', '9.2', '7', '7.3', '4.3',\n",
       "       '7.6', '5.7', '5', '9.1', '6.5', 'tbd', '8.8', '6.9', '9.4', '6.8',\n",
       "       '6.1', '6.7', '5.4', '4', '4.9', '4.5', '9.3', '6.2', '4.2', '6',\n",
       "       '3.7', '4.1', '5.8', '5.6', '5.5', '4.4', '4.6', '5.9', '3.9',\n",
       "       '3.1', '2.9', '5.2', '3.3', '4.7', '5.1', '3.5', '2.5', '1.9', '3',\n",
       "       '2.7', '2.2', '2', '9.5', '2.1', '3.6', '2.8', '1.8', '3.8', '0',\n",
       "       '1.6', '9.6', '2.4', '1.7', '1.1', '0.3', '1.5', '0.7', '1.2',\n",
       "       '2.3', '0.5', '1.3', '0.2', '0.6', '1.4', '0.9', '1', '9.7'],\n",
       "      dtype=object)"
      ]
     },
     "execution_count": 12,
     "metadata": {},
     "output_type": "execute_result"
    }
   ],
   "source": [
    "df['User_Score'].unique()"
   ]
  },
  {
   "cell_type": "code",
   "execution_count": 13,
   "metadata": {},
   "outputs": [
    {
     "data": {
      "text/plain": [
       "array(['E', nan, 'M', 'T', 'E10+', 'K-A', 'AO', 'EC', 'RP'], dtype=object)"
      ]
     },
     "execution_count": 13,
     "metadata": {},
     "output_type": "execute_result"
    }
   ],
   "source": [
    "df['Rating'].unique()"
   ]
  },
  {
   "cell_type": "code",
   "execution_count": 14,
   "metadata": {},
   "outputs": [
    {
     "data": {
      "text/plain": [
       "array([2006., 1985., 2008., 2009., 1996., 1989., 1984., 2005., 1999.,\n",
       "       2007., 2010., 2013., 2004., 1990., 1988., 2002., 2001., 2011.,\n",
       "       1998., 2015., 2012., 2014., 1992., 1997., 1993., 1994., 1982.,\n",
       "       2016., 2003., 1986., 2000.,   nan, 1995., 1991., 1981., 1987.,\n",
       "       1980., 1983.])"
      ]
     },
     "execution_count": 14,
     "metadata": {},
     "output_type": "execute_result"
    }
   ],
   "source": [
    "df['Year_of_Release'].unique()"
   ]
  },
  {
   "cell_type": "markdown",
   "metadata": {},
   "source": [
    "### Шаг 2. Подготовьте данные"
   ]
  },
  {
   "cell_type": "markdown",
   "metadata": {},
   "source": [
    "- Замените названия столбцов (приведите к нижнему регистру);\n",
    "- Преобразуйте данные в нужные типы. Опишите, в каких столбцах заменили тип данных и почему;\n",
    "- Обработайте пропуски при необходимости:\n",
    "- Объясните, почему заполнили пропуски определённым образом или почему не стали это делать;\n",
    "- Опишите причины, которые могли привести к пропускам;\n",
    "- Обратите внимание на аббревиатуру 'tbd' в столбцах с рейтингом. Отдельно разберите это значение и опишите, как его обработать;\n",
    "- Посчитайте суммарные продажи во всех регионах и запишите их в отдельный столбец."
   ]
  },
  {
   "cell_type": "markdown",
   "metadata": {},
   "source": [
    "#### Замените названия столбцов (приведите к нижнему регистру);"
   ]
  },
  {
   "cell_type": "code",
   "execution_count": 15,
   "metadata": {},
   "outputs": [
    {
     "data": {
      "text/plain": [
       "['Name',\n",
       " 'Platform',\n",
       " 'Year_of_Release',\n",
       " 'Genre',\n",
       " 'NA_sales',\n",
       " 'EU_sales',\n",
       " 'JP_sales',\n",
       " 'Other_sales',\n",
       " 'Critic_Score',\n",
       " 'User_Score',\n",
       " 'Rating']"
      ]
     },
     "execution_count": 15,
     "metadata": {},
     "output_type": "execute_result"
    }
   ],
   "source": [
    "df.columns.to_list()"
   ]
  },
  {
   "cell_type": "code",
   "execution_count": 16,
   "metadata": {},
   "outputs": [],
   "source": [
    "#заменим названия столбцов\n",
    "columns = ['game_name',\n",
    " 'platform',\n",
    " 'year_of_release',\n",
    " 'game_genre',\n",
    " 'sales_na_mil',\n",
    " 'sales_eu_mil',\n",
    " 'sales_jp_mil',\n",
    " 'sales_other_mil',\n",
    " 'critic_score',\n",
    " 'user_score',\n",
    " 'rating_esrb']\n",
    "\n",
    "df.set_axis(columns, axis='columns', inplace=True)\n",
    "\n",
    "#знаю, что можно автоматизировать через df.columns = df.columns.str.lower, \n",
    "#но я менял названия и переставлял местами слова, решил, что так будет разумнее"
   ]
  },
  {
   "cell_type": "code",
   "execution_count": 17,
   "metadata": {},
   "outputs": [
    {
     "data": {
      "text/html": [
       "<div>\n",
       "<style scoped>\n",
       "    .dataframe tbody tr th:only-of-type {\n",
       "        vertical-align: middle;\n",
       "    }\n",
       "\n",
       "    .dataframe tbody tr th {\n",
       "        vertical-align: top;\n",
       "    }\n",
       "\n",
       "    .dataframe thead th {\n",
       "        text-align: right;\n",
       "    }\n",
       "</style>\n",
       "<table border=\"1\" class=\"dataframe\">\n",
       "  <thead>\n",
       "    <tr style=\"text-align: right;\">\n",
       "      <th></th>\n",
       "      <th>game_name</th>\n",
       "      <th>platform</th>\n",
       "      <th>year_of_release</th>\n",
       "      <th>game_genre</th>\n",
       "      <th>sales_na_mil</th>\n",
       "      <th>sales_eu_mil</th>\n",
       "      <th>sales_jp_mil</th>\n",
       "      <th>sales_other_mil</th>\n",
       "      <th>critic_score</th>\n",
       "      <th>user_score</th>\n",
       "      <th>rating_esrb</th>\n",
       "    </tr>\n",
       "  </thead>\n",
       "  <tbody>\n",
       "    <tr>\n",
       "      <td>3826</td>\n",
       "      <td>The Golden Compass</td>\n",
       "      <td>PS2</td>\n",
       "      <td>2,007.00</td>\n",
       "      <td>Action</td>\n",
       "      <td>0.13</td>\n",
       "      <td>0.00</td>\n",
       "      <td>0.00</td>\n",
       "      <td>0.39</td>\n",
       "      <td>46.00</td>\n",
       "      <td>5.2</td>\n",
       "      <td>E10+</td>\n",
       "    </tr>\n",
       "    <tr>\n",
       "      <td>16492</td>\n",
       "      <td>Vitamin X</td>\n",
       "      <td>PS2</td>\n",
       "      <td>2,007.00</td>\n",
       "      <td>Adventure</td>\n",
       "      <td>0.00</td>\n",
       "      <td>0.00</td>\n",
       "      <td>0.01</td>\n",
       "      <td>0.00</td>\n",
       "      <td>nan</td>\n",
       "      <td>NaN</td>\n",
       "      <td>NaN</td>\n",
       "    </tr>\n",
       "    <tr>\n",
       "      <td>10622</td>\n",
       "      <td>Vanishing Point</td>\n",
       "      <td>PS</td>\n",
       "      <td>2,001.00</td>\n",
       "      <td>Racing</td>\n",
       "      <td>0.06</td>\n",
       "      <td>0.04</td>\n",
       "      <td>0.00</td>\n",
       "      <td>0.01</td>\n",
       "      <td>68.00</td>\n",
       "      <td>tbd</td>\n",
       "      <td>E</td>\n",
       "    </tr>\n",
       "    <tr>\n",
       "      <td>1948</td>\n",
       "      <td>Overwatch</td>\n",
       "      <td>XOne</td>\n",
       "      <td>2,016.00</td>\n",
       "      <td>Shooter</td>\n",
       "      <td>0.63</td>\n",
       "      <td>0.33</td>\n",
       "      <td>0.00</td>\n",
       "      <td>0.10</td>\n",
       "      <td>91.00</td>\n",
       "      <td>5.6</td>\n",
       "      <td>T</td>\n",
       "    </tr>\n",
       "    <tr>\n",
       "      <td>14801</td>\n",
       "      <td>Sengoku Basara: Sanada Yukimura-Den</td>\n",
       "      <td>PS3</td>\n",
       "      <td>2,016.00</td>\n",
       "      <td>Action</td>\n",
       "      <td>0.00</td>\n",
       "      <td>0.00</td>\n",
       "      <td>0.03</td>\n",
       "      <td>0.00</td>\n",
       "      <td>nan</td>\n",
       "      <td>NaN</td>\n",
       "      <td>NaN</td>\n",
       "    </tr>\n",
       "  </tbody>\n",
       "</table>\n",
       "</div>"
      ],
      "text/plain": [
       "                                 game_name platform  year_of_release  \\\n",
       "3826                    The Golden Compass      PS2         2,007.00   \n",
       "16492                            Vitamin X      PS2         2,007.00   \n",
       "10622                      Vanishing Point       PS         2,001.00   \n",
       "1948                             Overwatch     XOne         2,016.00   \n",
       "14801  Sengoku Basara: Sanada Yukimura-Den      PS3         2,016.00   \n",
       "\n",
       "      game_genre  sales_na_mil  sales_eu_mil  sales_jp_mil  sales_other_mil  \\\n",
       "3826      Action          0.13          0.00          0.00             0.39   \n",
       "16492  Adventure          0.00          0.00          0.01             0.00   \n",
       "10622     Racing          0.06          0.04          0.00             0.01   \n",
       "1948     Shooter          0.63          0.33          0.00             0.10   \n",
       "14801     Action          0.00          0.00          0.03             0.00   \n",
       "\n",
       "       critic_score user_score rating_esrb  \n",
       "3826          46.00        5.2        E10+  \n",
       "16492           nan        NaN         NaN  \n",
       "10622         68.00        tbd           E  \n",
       "1948          91.00        5.6           T  \n",
       "14801           nan        NaN         NaN  "
      ]
     },
     "execution_count": 17,
     "metadata": {},
     "output_type": "execute_result"
    }
   ],
   "source": [
    "#проверим\n",
    "df.sample(5)"
   ]
  },
  {
   "cell_type": "markdown",
   "metadata": {},
   "source": [
    "#### Преобразуйте данные в нужные типы. Опишите, в каких столбцах заменили тип данных и почему;"
   ]
  },
  {
   "cell_type": "code",
   "execution_count": 18,
   "metadata": {},
   "outputs": [
    {
     "name": "stdout",
     "output_type": "stream",
     "text": [
      "<class 'pandas.core.frame.DataFrame'>\n",
      "RangeIndex: 16715 entries, 0 to 16714\n",
      "Data columns (total 11 columns):\n",
      "game_name          16713 non-null object\n",
      "platform           16715 non-null object\n",
      "year_of_release    16446 non-null float64\n",
      "game_genre         16713 non-null object\n",
      "sales_na_mil       16715 non-null float64\n",
      "sales_eu_mil       16715 non-null float64\n",
      "sales_jp_mil       16715 non-null float64\n",
      "sales_other_mil    16715 non-null float64\n",
      "critic_score       8137 non-null float64\n",
      "user_score         10014 non-null object\n",
      "rating_esrb        9949 non-null object\n",
      "dtypes: float64(6), object(5)\n",
      "memory usage: 1.4+ MB\n"
     ]
    }
   ],
   "source": [
    "df.info()"
   ]
  },
  {
   "cell_type": "code",
   "execution_count": 19,
   "metadata": {},
   "outputs": [
    {
     "data": {
      "text/html": [
       "<div>\n",
       "<style scoped>\n",
       "    .dataframe tbody tr th:only-of-type {\n",
       "        vertical-align: middle;\n",
       "    }\n",
       "\n",
       "    .dataframe tbody tr th {\n",
       "        vertical-align: top;\n",
       "    }\n",
       "\n",
       "    .dataframe thead th {\n",
       "        text-align: right;\n",
       "    }\n",
       "</style>\n",
       "<table border=\"1\" class=\"dataframe\">\n",
       "  <thead>\n",
       "    <tr style=\"text-align: right;\">\n",
       "      <th></th>\n",
       "      <th>game_name</th>\n",
       "      <th>platform</th>\n",
       "      <th>year_of_release</th>\n",
       "      <th>game_genre</th>\n",
       "      <th>sales_na_mil</th>\n",
       "      <th>sales_eu_mil</th>\n",
       "      <th>sales_jp_mil</th>\n",
       "      <th>sales_other_mil</th>\n",
       "      <th>critic_score</th>\n",
       "      <th>user_score</th>\n",
       "      <th>rating_esrb</th>\n",
       "    </tr>\n",
       "  </thead>\n",
       "  <tbody>\n",
       "    <tr>\n",
       "      <td>16395</td>\n",
       "      <td>Rainbow Islands: Revolution</td>\n",
       "      <td>PSP</td>\n",
       "      <td>2,005.00</td>\n",
       "      <td>Action</td>\n",
       "      <td>0.01</td>\n",
       "      <td>0.00</td>\n",
       "      <td>0.00</td>\n",
       "      <td>0.00</td>\n",
       "      <td>nan</td>\n",
       "      <td>NaN</td>\n",
       "      <td>NaN</td>\n",
       "    </tr>\n",
       "    <tr>\n",
       "      <td>1784</td>\n",
       "      <td>Pokemon Rumble Blast</td>\n",
       "      <td>3DS</td>\n",
       "      <td>2,011.00</td>\n",
       "      <td>Action</td>\n",
       "      <td>0.47</td>\n",
       "      <td>0.26</td>\n",
       "      <td>0.35</td>\n",
       "      <td>0.07</td>\n",
       "      <td>56.00</td>\n",
       "      <td>7.1</td>\n",
       "      <td>E10+</td>\n",
       "    </tr>\n",
       "    <tr>\n",
       "      <td>7302</td>\n",
       "      <td>Pandemonium!</td>\n",
       "      <td>PS</td>\n",
       "      <td>1,996.00</td>\n",
       "      <td>Platform</td>\n",
       "      <td>0.12</td>\n",
       "      <td>0.08</td>\n",
       "      <td>0.00</td>\n",
       "      <td>0.01</td>\n",
       "      <td>nan</td>\n",
       "      <td>NaN</td>\n",
       "      <td>NaN</td>\n",
       "    </tr>\n",
       "    <tr>\n",
       "      <td>8671</td>\n",
       "      <td>NHL 2005</td>\n",
       "      <td>XB</td>\n",
       "      <td>2,004.00</td>\n",
       "      <td>Sports</td>\n",
       "      <td>0.12</td>\n",
       "      <td>0.03</td>\n",
       "      <td>0.00</td>\n",
       "      <td>0.01</td>\n",
       "      <td>77.00</td>\n",
       "      <td>6.2</td>\n",
       "      <td>E</td>\n",
       "    </tr>\n",
       "    <tr>\n",
       "      <td>1879</td>\n",
       "      <td>Untold Legends: Brotherhood of the Blade</td>\n",
       "      <td>PSP</td>\n",
       "      <td>2,005.00</td>\n",
       "      <td>Role-Playing</td>\n",
       "      <td>0.54</td>\n",
       "      <td>0.33</td>\n",
       "      <td>0.01</td>\n",
       "      <td>0.22</td>\n",
       "      <td>68.00</td>\n",
       "      <td>7.6</td>\n",
       "      <td>T</td>\n",
       "    </tr>\n",
       "  </tbody>\n",
       "</table>\n",
       "</div>"
      ],
      "text/plain": [
       "                                      game_name platform  year_of_release  \\\n",
       "16395               Rainbow Islands: Revolution      PSP         2,005.00   \n",
       "1784                       Pokemon Rumble Blast      3DS         2,011.00   \n",
       "7302                               Pandemonium!       PS         1,996.00   \n",
       "8671                                   NHL 2005       XB         2,004.00   \n",
       "1879   Untold Legends: Brotherhood of the Blade      PSP         2,005.00   \n",
       "\n",
       "         game_genre  sales_na_mil  sales_eu_mil  sales_jp_mil  \\\n",
       "16395        Action          0.01          0.00          0.00   \n",
       "1784         Action          0.47          0.26          0.35   \n",
       "7302       Platform          0.12          0.08          0.00   \n",
       "8671         Sports          0.12          0.03          0.00   \n",
       "1879   Role-Playing          0.54          0.33          0.01   \n",
       "\n",
       "       sales_other_mil  critic_score user_score rating_esrb  \n",
       "16395             0.00           nan        NaN         NaN  \n",
       "1784              0.07         56.00        7.1        E10+  \n",
       "7302              0.01           nan        NaN         NaN  \n",
       "8671              0.01         77.00        6.2           E  \n",
       "1879              0.22         68.00        7.6           T  "
      ]
     },
     "execution_count": 19,
     "metadata": {},
     "output_type": "execute_result"
    }
   ],
   "source": [
    "df.sample(5)"
   ]
  },
  {
   "cell_type": "code",
   "execution_count": 20,
   "metadata": {},
   "outputs": [],
   "source": [
    "#приведем все к нижнему регистру\n",
    "df['game_name'] = df['game_name'].str.lower()\n",
    "df['platform'] = df['platform'].str.lower()\n",
    "df['game_genre'] = df['game_genre'].str.lower()\n",
    "df['rating_esrb'] = df['rating_esrb'].str.lower()"
   ]
  },
  {
   "cell_type": "code",
   "execution_count": 21,
   "metadata": {},
   "outputs": [
    {
     "data": {
      "text/html": [
       "<div>\n",
       "<style scoped>\n",
       "    .dataframe tbody tr th:only-of-type {\n",
       "        vertical-align: middle;\n",
       "    }\n",
       "\n",
       "    .dataframe tbody tr th {\n",
       "        vertical-align: top;\n",
       "    }\n",
       "\n",
       "    .dataframe thead th {\n",
       "        text-align: right;\n",
       "    }\n",
       "</style>\n",
       "<table border=\"1\" class=\"dataframe\">\n",
       "  <thead>\n",
       "    <tr style=\"text-align: right;\">\n",
       "      <th></th>\n",
       "      <th>game_name</th>\n",
       "      <th>platform</th>\n",
       "      <th>year_of_release</th>\n",
       "      <th>game_genre</th>\n",
       "      <th>sales_na_mil</th>\n",
       "      <th>sales_eu_mil</th>\n",
       "      <th>sales_jp_mil</th>\n",
       "      <th>sales_other_mil</th>\n",
       "      <th>critic_score</th>\n",
       "      <th>user_score</th>\n",
       "      <th>rating_esrb</th>\n",
       "    </tr>\n",
       "  </thead>\n",
       "  <tbody>\n",
       "    <tr>\n",
       "      <td>10834</td>\n",
       "      <td>seaworld adventure parks: shamu's deep sea adv...</td>\n",
       "      <td>gc</td>\n",
       "      <td>2,005.00</td>\n",
       "      <td>adventure</td>\n",
       "      <td>0.07</td>\n",
       "      <td>0.02</td>\n",
       "      <td>0.00</td>\n",
       "      <td>0.00</td>\n",
       "      <td>nan</td>\n",
       "      <td>NaN</td>\n",
       "      <td>NaN</td>\n",
       "    </tr>\n",
       "    <tr>\n",
       "      <td>16176</td>\n",
       "      <td>fab 5 soccer</td>\n",
       "      <td>ds</td>\n",
       "      <td>2,008.00</td>\n",
       "      <td>sports</td>\n",
       "      <td>0.01</td>\n",
       "      <td>0.00</td>\n",
       "      <td>0.00</td>\n",
       "      <td>0.00</td>\n",
       "      <td>nan</td>\n",
       "      <td>tbd</td>\n",
       "      <td>e</td>\n",
       "    </tr>\n",
       "    <tr>\n",
       "      <td>1856</td>\n",
       "      <td>the final fantasy legend</td>\n",
       "      <td>gb</td>\n",
       "      <td>1,989.00</td>\n",
       "      <td>role-playing</td>\n",
       "      <td>0.00</td>\n",
       "      <td>0.00</td>\n",
       "      <td>1.10</td>\n",
       "      <td>0.00</td>\n",
       "      <td>nan</td>\n",
       "      <td>NaN</td>\n",
       "      <td>NaN</td>\n",
       "    </tr>\n",
       "    <tr>\n",
       "      <td>2760</td>\n",
       "      <td>[prototype 2]</td>\n",
       "      <td>ps3</td>\n",
       "      <td>2,012.00</td>\n",
       "      <td>action</td>\n",
       "      <td>0.36</td>\n",
       "      <td>0.28</td>\n",
       "      <td>0.00</td>\n",
       "      <td>0.10</td>\n",
       "      <td>79.00</td>\n",
       "      <td>6.8</td>\n",
       "      <td>m</td>\n",
       "    </tr>\n",
       "    <tr>\n",
       "      <td>11846</td>\n",
       "      <td>spongebob's truth or square</td>\n",
       "      <td>x360</td>\n",
       "      <td>2,009.00</td>\n",
       "      <td>action</td>\n",
       "      <td>0.03</td>\n",
       "      <td>0.04</td>\n",
       "      <td>0.00</td>\n",
       "      <td>0.00</td>\n",
       "      <td>nan</td>\n",
       "      <td>6.5</td>\n",
       "      <td>e</td>\n",
       "    </tr>\n",
       "    <tr>\n",
       "      <td>15550</td>\n",
       "      <td>ridge racer unbounded</td>\n",
       "      <td>pc</td>\n",
       "      <td>2,012.00</td>\n",
       "      <td>racing</td>\n",
       "      <td>0.00</td>\n",
       "      <td>0.02</td>\n",
       "      <td>0.00</td>\n",
       "      <td>0.00</td>\n",
       "      <td>72.00</td>\n",
       "      <td>6</td>\n",
       "      <td>t</td>\n",
       "    </tr>\n",
       "    <tr>\n",
       "      <td>9996</td>\n",
       "      <td>karaoke revolution presents american idol enco...</td>\n",
       "      <td>ps3</td>\n",
       "      <td>2,008.00</td>\n",
       "      <td>misc</td>\n",
       "      <td>0.11</td>\n",
       "      <td>0.00</td>\n",
       "      <td>0.00</td>\n",
       "      <td>0.01</td>\n",
       "      <td>nan</td>\n",
       "      <td>tbd</td>\n",
       "      <td>e10+</td>\n",
       "    </tr>\n",
       "    <tr>\n",
       "      <td>10781</td>\n",
       "      <td>who wants to be a millionaire?</td>\n",
       "      <td>x360</td>\n",
       "      <td>2,011.00</td>\n",
       "      <td>misc</td>\n",
       "      <td>0.09</td>\n",
       "      <td>0.00</td>\n",
       "      <td>0.00</td>\n",
       "      <td>0.01</td>\n",
       "      <td>nan</td>\n",
       "      <td>NaN</td>\n",
       "      <td>NaN</td>\n",
       "    </tr>\n",
       "    <tr>\n",
       "      <td>10270</td>\n",
       "      <td>4 game fun pack: monopoly / boggle / yahtzee /...</td>\n",
       "      <td>ds</td>\n",
       "      <td>2,005.00</td>\n",
       "      <td>misc</td>\n",
       "      <td>0.10</td>\n",
       "      <td>0.00</td>\n",
       "      <td>0.00</td>\n",
       "      <td>0.01</td>\n",
       "      <td>nan</td>\n",
       "      <td>NaN</td>\n",
       "      <td>NaN</td>\n",
       "    </tr>\n",
       "    <tr>\n",
       "      <td>6509</td>\n",
       "      <td>yakuza: ishin</td>\n",
       "      <td>ps3</td>\n",
       "      <td>2,014.00</td>\n",
       "      <td>action</td>\n",
       "      <td>0.00</td>\n",
       "      <td>0.00</td>\n",
       "      <td>0.26</td>\n",
       "      <td>0.00</td>\n",
       "      <td>nan</td>\n",
       "      <td>NaN</td>\n",
       "      <td>NaN</td>\n",
       "    </tr>\n",
       "  </tbody>\n",
       "</table>\n",
       "</div>"
      ],
      "text/plain": [
       "                                               game_name platform  \\\n",
       "10834  seaworld adventure parks: shamu's deep sea adv...       gc   \n",
       "16176                                       fab 5 soccer       ds   \n",
       "1856                            the final fantasy legend       gb   \n",
       "2760                                       [prototype 2]      ps3   \n",
       "11846                        spongebob's truth or square     x360   \n",
       "15550                              ridge racer unbounded       pc   \n",
       "9996   karaoke revolution presents american idol enco...      ps3   \n",
       "10781                     who wants to be a millionaire?     x360   \n",
       "10270  4 game fun pack: monopoly / boggle / yahtzee /...       ds   \n",
       "6509                                       yakuza: ishin      ps3   \n",
       "\n",
       "       year_of_release    game_genre  sales_na_mil  sales_eu_mil  \\\n",
       "10834         2,005.00     adventure          0.07          0.02   \n",
       "16176         2,008.00        sports          0.01          0.00   \n",
       "1856          1,989.00  role-playing          0.00          0.00   \n",
       "2760          2,012.00        action          0.36          0.28   \n",
       "11846         2,009.00        action          0.03          0.04   \n",
       "15550         2,012.00        racing          0.00          0.02   \n",
       "9996          2,008.00          misc          0.11          0.00   \n",
       "10781         2,011.00          misc          0.09          0.00   \n",
       "10270         2,005.00          misc          0.10          0.00   \n",
       "6509          2,014.00        action          0.00          0.00   \n",
       "\n",
       "       sales_jp_mil  sales_other_mil  critic_score user_score rating_esrb  \n",
       "10834          0.00             0.00           nan        NaN         NaN  \n",
       "16176          0.00             0.00           nan        tbd           e  \n",
       "1856           1.10             0.00           nan        NaN         NaN  \n",
       "2760           0.00             0.10         79.00        6.8           m  \n",
       "11846          0.00             0.00           nan        6.5           e  \n",
       "15550          0.00             0.00         72.00          6           t  \n",
       "9996           0.00             0.01           nan        tbd        e10+  \n",
       "10781          0.00             0.01           nan        NaN         NaN  \n",
       "10270          0.00             0.01           nan        NaN         NaN  \n",
       "6509           0.26             0.00           nan        NaN         NaN  "
      ]
     },
     "execution_count": 21,
     "metadata": {},
     "output_type": "execute_result"
    }
   ],
   "source": [
    "#проверим\n",
    "df.sample(10)"
   ]
  },
  {
   "cell_type": "code",
   "execution_count": 22,
   "metadata": {},
   "outputs": [
    {
     "data": {
      "text/plain": [
       "0"
      ]
     },
     "execution_count": 22,
     "metadata": {},
     "output_type": "execute_result"
    }
   ],
   "source": [
    "#проверим дубликаты после приведения к нижнему регистру\n",
    "df.duplicated().sum()"
   ]
  },
  {
   "cell_type": "markdown",
   "metadata": {},
   "source": [
    "Дубликатов не появилось, отлично"
   ]
  },
  {
   "cell_type": "code",
   "execution_count": 23,
   "metadata": {},
   "outputs": [
    {
     "name": "stdout",
     "output_type": "stream",
     "text": [
      "<class 'pandas.core.frame.DataFrame'>\n",
      "RangeIndex: 16715 entries, 0 to 16714\n",
      "Data columns (total 11 columns):\n",
      "game_name          16713 non-null object\n",
      "platform           16715 non-null object\n",
      "year_of_release    16446 non-null float64\n",
      "game_genre         16713 non-null object\n",
      "sales_na_mil       16715 non-null float64\n",
      "sales_eu_mil       16715 non-null float64\n",
      "sales_jp_mil       16715 non-null float64\n",
      "sales_other_mil    16715 non-null float64\n",
      "critic_score       8137 non-null float64\n",
      "user_score         10014 non-null object\n",
      "rating_esrb        9949 non-null object\n",
      "dtypes: float64(6), object(5)\n",
      "memory usage: 1.4+ MB\n"
     ]
    }
   ],
   "source": [
    "#проверим\n",
    "df.info()"
   ]
  },
  {
   "cell_type": "markdown",
   "metadata": {},
   "source": [
    "#### Обработайте пропуски при необходимости"
   ]
  },
  {
   "cell_type": "code",
   "execution_count": 24,
   "metadata": {},
   "outputs": [],
   "source": [
    "#заполним пропуски в critic_score и user_score на -1\n",
    "df['critic_score'] = df['critic_score'].fillna(-1)\n",
    "df['user_score'] = df['user_score'].fillna(-1)\n",
    "df['year_of_release'] = df['year_of_release'].fillna(2099)"
   ]
  },
  {
   "cell_type": "code",
   "execution_count": 25,
   "metadata": {},
   "outputs": [
    {
     "name": "stdout",
     "output_type": "stream",
     "text": [
      "Пропусков в critic_score -  0\n",
      "Пропусков в user_score -  0\n",
      "Пропусков в year_of_release -  0\n"
     ]
    }
   ],
   "source": [
    "#проверим\n",
    "print('Пропусков в critic_score - ', df['critic_score'].isnull().sum())\n",
    "print('Пропусков в user_score - ', df['user_score'].isnull().sum())\n",
    "print('Пропусков в year_of_release - ', df['year_of_release'].isnull().sum())"
   ]
  },
  {
   "cell_type": "code",
   "execution_count": 26,
   "metadata": {},
   "outputs": [
    {
     "name": "stdout",
     "output_type": "stream",
     "text": [
      "['e' 'no_esrb' 'm' 't' 'e10+' 'k-a' 'ao' 'ec' 'rp']\n"
     ]
    }
   ],
   "source": [
    "#заменим пропуски в rating_esrb на 'no_esrb'\n",
    "df['rating_esrb'] = df['rating_esrb'].fillna('no_esrb')\n",
    "print(df['rating_esrb'].unique())"
   ]
  },
  {
   "cell_type": "code",
   "execution_count": 27,
   "metadata": {},
   "outputs": [
    {
     "data": {
      "text/plain": [
       "platform          0.00\n",
       "year_of_release   0.00\n",
       "sales_na_mil      0.00\n",
       "sales_eu_mil      0.00\n",
       "sales_jp_mil      0.00\n",
       "sales_other_mil   0.00\n",
       "critic_score      0.00\n",
       "user_score        0.00\n",
       "rating_esrb       0.00\n",
       "game_name         0.01\n",
       "game_genre        0.01\n",
       "dtype: float64"
      ]
     },
     "execution_count": 27,
     "metadata": {},
     "output_type": "execute_result"
    }
   ],
   "source": [
    "#проверим после всех действий количество пропусков\n",
    "df.isnull().sum().sort_values() / df.shape[0] * 100"
   ]
  },
  {
   "cell_type": "code",
   "execution_count": 28,
   "metadata": {},
   "outputs": [],
   "source": [
    "df['year_of_release'] = df['year_of_release'].astype(int)"
   ]
  },
  {
   "cell_type": "code",
   "execution_count": 29,
   "metadata": {},
   "outputs": [
    {
     "data": {
      "text/plain": [
       "0    2006\n",
       "1    1985\n",
       "2    2008\n",
       "3    2009\n",
       "4    1996\n",
       "Name: year_of_release, dtype: int64"
      ]
     },
     "execution_count": 29,
     "metadata": {},
     "output_type": "execute_result"
    }
   ],
   "source": [
    "#проверим\n",
    "df['year_of_release'].head()"
   ]
  },
  {
   "cell_type": "markdown",
   "metadata": {},
   "source": [
    "#### Объясните, почему заполнили пропуски определённым образом или почему не стали это делать"
   ]
  },
  {
   "cell_type": "markdown",
   "metadata": {},
   "source": [
    "- Пропусков очень много в user_score 40.09% и critic_score 51.32%, заменять на какие либо значения нет смысла, т.к. это очень исказит дальнейшее исследование.\n",
    "Заменили на индикаторное значение -1.\n",
    "\n",
    "\n",
    "- rating_esrb - рейтинг от ESRB - может быть, в те времена не было такой организации, вот и рейтинга от неё тоже нет. Невозможно дать рейтинг игре, посчитав его как среднее рейтингов игр того же жанра. Поставим рейтинг \"no_esrb\"\n",
    "\n",
    "\n",
    "- Столбец year_of_release (год выпуска игры) имеет 1.61% пропусков. Не много, но неприятно. Средними/медианами эти пропуски не заполнить, эти данные не являются самыми важными для анализа данных, да и пропусков в столбце не так много. Другими словами, целых данных достаточно для анализа, поэтому оставляем как есть.\n",
    "\n",
    "Ни по одному столбцу заполнить пропуски хотя бы усредненными данными не представляется возможным. Тем не менее, заполнили их \"нереальными\" данными для возможности спокойно работать с этими строками по другим параметрам."
   ]
  },
  {
   "cell_type": "markdown",
   "metadata": {},
   "source": [
    "#### Опишите причины, которые могли привести к пропускам"
   ]
  },
  {
   "cell_type": "markdown",
   "metadata": {},
   "source": [
    "- Пропуски в critic_score и user_score могли возникнуть из-за того, что критики и пользователи попросту не оставили свои оценки\n",
    "\n",
    "- Как и говорил ранее, рейтинг от ESRB - может быть, в те времена не было такой организации, вот и рейтинга от неё тоже нет. "
   ]
  },
  {
   "cell_type": "markdown",
   "metadata": {},
   "source": [
    "#### Обратите внимание на аббревиатуру 'tbd' в столбцах с рейтингом. Отдельно разберите это значение и опишите, как его обработать"
   ]
  },
  {
   "cell_type": "markdown",
   "metadata": {},
   "source": [
    "Исходя из FAQ Metacritic'a, найдем, что это аббревиатура от To Be Determined. Пишется тогда, когда игра имеет недостаточное количество отзывов (менее 4) для подсчета рейтинга пользователей и его публикации.\n",
    "\n",
    "Но числовой тип столбца нам необходим."
   ]
  },
  {
   "cell_type": "code",
   "execution_count": 30,
   "metadata": {},
   "outputs": [],
   "source": [
    "df['user_score'] = df['user_score'].replace('tbd', np.NaN)\n",
    "#df['user_score'] = df['user_score'].astype('float')\n",
    "df['user_score'] = df['user_score'].fillna(-1)\n",
    "df['user_score'] = df['user_score'].astype('float')"
   ]
  },
  {
   "cell_type": "code",
   "execution_count": 31,
   "metadata": {},
   "outputs": [
    {
     "name": "stdout",
     "output_type": "stream",
     "text": [
      "<class 'pandas.core.frame.DataFrame'>\n",
      "RangeIndex: 16715 entries, 0 to 16714\n",
      "Data columns (total 11 columns):\n",
      "game_name          16713 non-null object\n",
      "platform           16715 non-null object\n",
      "year_of_release    16715 non-null int64\n",
      "game_genre         16713 non-null object\n",
      "sales_na_mil       16715 non-null float64\n",
      "sales_eu_mil       16715 non-null float64\n",
      "sales_jp_mil       16715 non-null float64\n",
      "sales_other_mil    16715 non-null float64\n",
      "critic_score       16715 non-null float64\n",
      "user_score         16715 non-null float64\n",
      "rating_esrb        16715 non-null object\n",
      "dtypes: float64(6), int64(1), object(4)\n",
      "memory usage: 1.4+ MB\n"
     ]
    }
   ],
   "source": [
    "#проверим\n",
    "df.info()"
   ]
  },
  {
   "cell_type": "markdown",
   "metadata": {},
   "source": [
    "#### Посчитайте суммарные продажи во всех регионах и запишите их в отдельный столбец"
   ]
  },
  {
   "cell_type": "code",
   "execution_count": 32,
   "metadata": {},
   "outputs": [],
   "source": [
    "df['sales_total'] = df['sales_na_mil'] + df['sales_eu_mil'] + df['sales_jp_mil'] + df['sales_other_mil']"
   ]
  },
  {
   "cell_type": "code",
   "execution_count": 33,
   "metadata": {},
   "outputs": [
    {
     "data": {
      "text/html": [
       "<div>\n",
       "<style scoped>\n",
       "    .dataframe tbody tr th:only-of-type {\n",
       "        vertical-align: middle;\n",
       "    }\n",
       "\n",
       "    .dataframe tbody tr th {\n",
       "        vertical-align: top;\n",
       "    }\n",
       "\n",
       "    .dataframe thead th {\n",
       "        text-align: right;\n",
       "    }\n",
       "</style>\n",
       "<table border=\"1\" class=\"dataframe\">\n",
       "  <thead>\n",
       "    <tr style=\"text-align: right;\">\n",
       "      <th></th>\n",
       "      <th>game_name</th>\n",
       "      <th>platform</th>\n",
       "      <th>year_of_release</th>\n",
       "      <th>game_genre</th>\n",
       "      <th>sales_na_mil</th>\n",
       "      <th>sales_eu_mil</th>\n",
       "      <th>sales_jp_mil</th>\n",
       "      <th>sales_other_mil</th>\n",
       "      <th>critic_score</th>\n",
       "      <th>user_score</th>\n",
       "      <th>rating_esrb</th>\n",
       "      <th>sales_total</th>\n",
       "    </tr>\n",
       "  </thead>\n",
       "  <tbody>\n",
       "    <tr>\n",
       "      <td>0</td>\n",
       "      <td>wii sports</td>\n",
       "      <td>wii</td>\n",
       "      <td>2006</td>\n",
       "      <td>sports</td>\n",
       "      <td>41.36</td>\n",
       "      <td>28.96</td>\n",
       "      <td>3.77</td>\n",
       "      <td>8.45</td>\n",
       "      <td>76.00</td>\n",
       "      <td>8.00</td>\n",
       "      <td>e</td>\n",
       "      <td>82.54</td>\n",
       "    </tr>\n",
       "    <tr>\n",
       "      <td>1</td>\n",
       "      <td>super mario bros.</td>\n",
       "      <td>nes</td>\n",
       "      <td>1985</td>\n",
       "      <td>platform</td>\n",
       "      <td>29.08</td>\n",
       "      <td>3.58</td>\n",
       "      <td>6.81</td>\n",
       "      <td>0.77</td>\n",
       "      <td>-1.00</td>\n",
       "      <td>-1.00</td>\n",
       "      <td>no_esrb</td>\n",
       "      <td>40.24</td>\n",
       "    </tr>\n",
       "    <tr>\n",
       "      <td>2</td>\n",
       "      <td>mario kart wii</td>\n",
       "      <td>wii</td>\n",
       "      <td>2008</td>\n",
       "      <td>racing</td>\n",
       "      <td>15.68</td>\n",
       "      <td>12.76</td>\n",
       "      <td>3.79</td>\n",
       "      <td>3.29</td>\n",
       "      <td>82.00</td>\n",
       "      <td>8.30</td>\n",
       "      <td>e</td>\n",
       "      <td>35.52</td>\n",
       "    </tr>\n",
       "    <tr>\n",
       "      <td>3</td>\n",
       "      <td>wii sports resort</td>\n",
       "      <td>wii</td>\n",
       "      <td>2009</td>\n",
       "      <td>sports</td>\n",
       "      <td>15.61</td>\n",
       "      <td>10.93</td>\n",
       "      <td>3.28</td>\n",
       "      <td>2.95</td>\n",
       "      <td>80.00</td>\n",
       "      <td>8.00</td>\n",
       "      <td>e</td>\n",
       "      <td>32.77</td>\n",
       "    </tr>\n",
       "    <tr>\n",
       "      <td>4</td>\n",
       "      <td>pokemon red/pokemon blue</td>\n",
       "      <td>gb</td>\n",
       "      <td>1996</td>\n",
       "      <td>role-playing</td>\n",
       "      <td>11.27</td>\n",
       "      <td>8.89</td>\n",
       "      <td>10.22</td>\n",
       "      <td>1.00</td>\n",
       "      <td>-1.00</td>\n",
       "      <td>-1.00</td>\n",
       "      <td>no_esrb</td>\n",
       "      <td>31.38</td>\n",
       "    </tr>\n",
       "  </tbody>\n",
       "</table>\n",
       "</div>"
      ],
      "text/plain": [
       "                  game_name platform  year_of_release    game_genre  \\\n",
       "0                wii sports      wii             2006        sports   \n",
       "1         super mario bros.      nes             1985      platform   \n",
       "2            mario kart wii      wii             2008        racing   \n",
       "3         wii sports resort      wii             2009        sports   \n",
       "4  pokemon red/pokemon blue       gb             1996  role-playing   \n",
       "\n",
       "   sales_na_mil  sales_eu_mil  sales_jp_mil  sales_other_mil  critic_score  \\\n",
       "0         41.36         28.96          3.77             8.45         76.00   \n",
       "1         29.08          3.58          6.81             0.77         -1.00   \n",
       "2         15.68         12.76          3.79             3.29         82.00   \n",
       "3         15.61         10.93          3.28             2.95         80.00   \n",
       "4         11.27          8.89         10.22             1.00         -1.00   \n",
       "\n",
       "   user_score rating_esrb  sales_total  \n",
       "0        8.00           e        82.54  \n",
       "1       -1.00     no_esrb        40.24  \n",
       "2        8.30           e        35.52  \n",
       "3        8.00           e        32.77  \n",
       "4       -1.00     no_esrb        31.38  "
      ]
     },
     "execution_count": 33,
     "metadata": {},
     "output_type": "execute_result"
    }
   ],
   "source": [
    "df.head()"
   ]
  },
  {
   "cell_type": "code",
   "execution_count": 34,
   "metadata": {},
   "outputs": [
    {
     "name": "stdout",
     "output_type": "stream",
     "text": [
      "<class 'pandas.core.frame.DataFrame'>\n",
      "RangeIndex: 16715 entries, 0 to 16714\n",
      "Data columns (total 12 columns):\n",
      "game_name          16713 non-null object\n",
      "platform           16715 non-null object\n",
      "year_of_release    16715 non-null int64\n",
      "game_genre         16713 non-null object\n",
      "sales_na_mil       16715 non-null float64\n",
      "sales_eu_mil       16715 non-null float64\n",
      "sales_jp_mil       16715 non-null float64\n",
      "sales_other_mil    16715 non-null float64\n",
      "critic_score       16715 non-null float64\n",
      "user_score         16715 non-null float64\n",
      "rating_esrb        16715 non-null object\n",
      "sales_total        16715 non-null float64\n",
      "dtypes: float64(7), int64(1), object(4)\n",
      "memory usage: 1.5+ MB\n"
     ]
    }
   ],
   "source": [
    "df.info()"
   ]
  },
  {
   "cell_type": "markdown",
   "metadata": {},
   "source": [
    "### Шаг 3. Проведите исследовательский анализ данных"
   ]
  },
  {
   "cell_type": "markdown",
   "metadata": {},
   "source": [
    "- Посмотрите, сколько игр выпускалось в разные годы. Важны ли данные за все периоды?\n",
    "- Посмотрите, как менялись продажи по платформам. Выберите платформы с наибольшими суммарными продажами и постройте распределение по годам. За какой характерный срок появляются новые и исчезают старые платформы?\n",
    "- Возьмите данные за соответствующий актуальный период. Актуальный период определите самостоятельно в результате исследования предыдущих вопросов. Основной фактор — эти данные помогут построить прогноз на 2017 год. Не учитывайте в работе данные за предыдущие годы.\n",
    "- Какие платформы лидируют по продажам, растут или падают? Выберите несколько потенциально прибыльных платформ.\n",
    "- Постройте график «ящик с усами» по глобальным продажам игр в разбивке по платформам. Опишите результат.\n",
    "- Посмотрите, как влияют на продажи внутри одной популярной платформы отзывы пользователей и критиков. Постройте диаграмму рассеяния и посчитайте корреляцию между отзывами и продажами. Сформулируйте выводы.\n",
    "- Соотнесите выводы с продажами игр на других платформах.\n",
    "- Посмотрите на общее распределение игр по жанрам. Что можно сказать о самых прибыльных жанрах? Выделяются ли жанры с высокими и низкими продажами?"
   ]
  },
  {
   "cell_type": "markdown",
   "metadata": {},
   "source": [
    "#### Посмотрите, сколько игр выпускалось в разные годы. Важны ли данные за все периоды?"
   ]
  },
  {
   "cell_type": "code",
   "execution_count": 35,
   "metadata": {},
   "outputs": [
    {
     "data": {
      "text/plain": [
       "<matplotlib.axes._subplots.AxesSubplot at 0x7fb4260ffc90>"
      ]
     },
     "execution_count": 35,
     "metadata": {},
     "output_type": "execute_result"
    },
    {
     "data": {
      "image/png": "[encoded data removed]",
      "text/plain": [
       "<Figure size 432x288 with 1 Axes>"
      ]
     },
     "metadata": {
      "needs_background": "light"
     },
     "output_type": "display_data"
    }
   ],
   "source": [
    "sns.distplot(df[df['year_of_release'] != 2099]['year_of_release'])"
   ]
  },
  {
   "cell_type": "markdown",
   "metadata": {},
   "source": [
    "До 1994 года производилось мало игр, это и логично так как не было настолько много компьютеров и других платформ для игр.\n",
    "В 1995 году начала\n",
    "Пик приходиться с 2007 по 2012, могу предположить, что с развитием мобильных устройств упала и производительность игр."
   ]
  },
  {
   "cell_type": "markdown",
   "metadata": {},
   "source": [
    "#### Посмотрите, как менялись продажи по платформам. Выберите платформы с наибольшими суммарными продажами и постройте распределение по годам. За какой характерный срок появляются новые и исчезают старые платформы?"
   ]
  },
  {
   "cell_type": "code",
   "execution_count": 36,
   "metadata": {},
   "outputs": [
    {
     "data": {
      "text/plain": [
       "Text(0.5, 1.0, 'Сумма продаж, выпущенные на разных платформах. ')"
      ]
     },
     "execution_count": 36,
     "metadata": {},
     "output_type": "execute_result"
    },
    {
     "data": {
      "image/png": "[encoded data removed]",
      "text/plain": [
       "<Figure size 576x288 with 1 Axes>"
      ]
     },
     "metadata": {
      "needs_background": "light"
     },
     "output_type": "display_data"
    }
   ],
   "source": [
    "df.groupby('platform')['sales_total']\\\n",
    "    .agg(['sum'])\\\n",
    "    .sort_values('sum',ascending=False)\\\n",
    "    .plot(kind='bar', grid=True, figsize=(8, 4))\n",
    "plt.title('Сумма продаж, выпущенные на разных платформах. ')"
   ]
  },
  {
   "cell_type": "code",
   "execution_count": 37,
   "metadata": {},
   "outputs": [
    {
     "data": {
      "text/html": [
       "<div>\n",
       "<style scoped>\n",
       "    .dataframe tbody tr th:only-of-type {\n",
       "        vertical-align: middle;\n",
       "    }\n",
       "\n",
       "    .dataframe tbody tr th {\n",
       "        vertical-align: top;\n",
       "    }\n",
       "\n",
       "    .dataframe thead th {\n",
       "        text-align: right;\n",
       "    }\n",
       "</style>\n",
       "<table border=\"1\" class=\"dataframe\">\n",
       "  <thead>\n",
       "    <tr style=\"text-align: right;\">\n",
       "      <th></th>\n",
       "      <th>sum</th>\n",
       "    </tr>\n",
       "    <tr>\n",
       "      <th>platform</th>\n",
       "      <th></th>\n",
       "    </tr>\n",
       "  </thead>\n",
       "  <tbody>\n",
       "    <tr>\n",
       "      <td>ps2</td>\n",
       "      <td>1,255.77</td>\n",
       "    </tr>\n",
       "    <tr>\n",
       "      <td>x360</td>\n",
       "      <td>971.42</td>\n",
       "    </tr>\n",
       "    <tr>\n",
       "      <td>ps3</td>\n",
       "      <td>939.65</td>\n",
       "    </tr>\n",
       "    <tr>\n",
       "      <td>wii</td>\n",
       "      <td>907.51</td>\n",
       "    </tr>\n",
       "    <tr>\n",
       "      <td>ds</td>\n",
       "      <td>806.12</td>\n",
       "    </tr>\n",
       "    <tr>\n",
       "      <td>ps</td>\n",
       "      <td>730.86</td>\n",
       "    </tr>\n",
       "  </tbody>\n",
       "</table>\n",
       "</div>"
      ],
      "text/plain": [
       "              sum\n",
       "platform         \n",
       "ps2      1,255.77\n",
       "x360       971.42\n",
       "ps3        939.65\n",
       "wii        907.51\n",
       "ds         806.12\n",
       "ps         730.86"
      ]
     },
     "execution_count": 37,
     "metadata": {},
     "output_type": "execute_result"
    }
   ],
   "source": [
    "df.groupby('platform')['sales_total']\\\n",
    "    .agg(['sum'])\\\n",
    "    .sort_values('sum',ascending=False).head(6)"
   ]
  },
  {
   "cell_type": "code",
   "execution_count": 38,
   "metadata": {},
   "outputs": [],
   "source": [
    "top_platform = ['ps2', 'x360', 'ps3', 'wii', 'ds', 'ps']"
   ]
  },
  {
   "cell_type": "code",
   "execution_count": 39,
   "metadata": {},
   "outputs": [
    {
     "data": {
      "text/plain": [
       "<matplotlib.axes._subplots.AxesSubplot at 0x7fb4238fc5d0>"
      ]
     },
     "execution_count": 39,
     "metadata": {},
     "output_type": "execute_result"
    },
    {
     "data": {
      "image/png": "[encoded data removed]",
      "text/plain": [
       "<Figure size 1440x360 with 1 Axes>"
      ]
     },
     "metadata": {
      "needs_background": "light"
     },
     "output_type": "display_data"
    }
   ],
   "source": [
    "df.query('platform == @top_platform and year_of_release != 2099')\\\n",
    "    .pivot_table(index='year_of_release', columns='platform', values='sales_total', aggfunc='sum')\\\n",
    "    .plot(style='o-', grid=True, figsize=(20, 5))"
   ]
  },
  {
   "cell_type": "markdown",
   "metadata": {},
   "source": [
    "По графику видим, что платформа появляется и исчезает в течение примерно 10 лет.\n",
    "Таким образом для нашего прогноза целесообразно рассмотреть период за последние 5 лет, т.е те платформы которые набирают популярность, либо находятся на пике."
   ]
  },
  {
   "cell_type": "markdown",
   "metadata": {},
   "source": [
    "#### Возьмите данные за соответствующий актуальный период. Актуальный период определите самостоятельно в результате исследования предыдущих вопросов. Основной фактор — эти данные помогут построить прогноз на 2017 год. Не учитывайте в работе данные за предыдущие годы.\n",
    "\n",
    "#### Какие платформы лидируют по продажам, растут или падают? Выберите несколько потенциально прибыльных платформ."
   ]
  },
  {
   "cell_type": "markdown",
   "metadata": {},
   "source": [
    "Целесообразно рассмотреть период за последние 5 лет, т.е те платформы которые набирают популярность, либо находятся на пике."
   ]
  },
  {
   "cell_type": "code",
   "execution_count": 40,
   "metadata": {},
   "outputs": [
    {
     "data": {
      "text/plain": [
       "Text(0.5, 1.0, 'Продажи по платформам, появившимся после 2012')"
      ]
     },
     "execution_count": 40,
     "metadata": {},
     "output_type": "execute_result"
    },
    {
     "data": {
      "image/png": "[encoded data removed]",
      "text/plain": [
       "<Figure size 1440x360 with 1 Axes>"
      ]
     },
     "metadata": {
      "needs_background": "light"
     },
     "output_type": "display_data"
    }
   ],
   "source": [
    "df.query('year_of_release >= 2012 & year_of_release != 2099')\\\n",
    "    .pivot_table(index='platform', values='sales_total', aggfunc='sum')\\\n",
    "    .plot(kind='bar', grid=True, figsize=(20, 5))\n",
    "plt.title('Продажи по платформам, появившимся после 2012')"
   ]
  },
  {
   "cell_type": "markdown",
   "metadata": {},
   "source": [
    "C 2011 по 2016 год пятерка лидеров продаж выглядит так:\n",
    "3ds, ps3, ps4, x360, xone.\n",
    "\n",
    "Необходимо проанализировать продажи по годам, чтобы проследить тенденцию.\n",
    "У каких платформ идет рост продаж, у каких спад."
   ]
  },
  {
   "cell_type": "code",
   "execution_count": 41,
   "metadata": {},
   "outputs": [
    {
     "data": {
      "text/plain": [
       "<matplotlib.axes._subplots.AxesSubplot at 0x7fb4236251d0>"
      ]
     },
     "execution_count": 41,
     "metadata": {},
     "output_type": "execute_result"
    },
    {
     "data": {
      "image/png": "[encoded data removed]",
      "text/plain": [
       "<Figure size 1440x360 with 1 Axes>"
      ]
     },
     "metadata": {
      "needs_background": "light"
     },
     "output_type": "display_data"
    }
   ],
   "source": [
    "df.query('year_of_release >= 2012 & year_of_release != 2099')\\\n",
    "    .pivot_table(index='year_of_release', columns='platform', values='sales_total', aggfunc='sum')\\\n",
    "    .plot(kind='bar', grid=True, figsize=(20, 5))"
   ]
  },
  {
   "cell_type": "code",
   "execution_count": 42,
   "metadata": {},
   "outputs": [],
   "source": [
    "top_platform_new = ['3ds', 'ps3', 'ps4', 'x360', 'xone']"
   ]
  },
  {
   "cell_type": "code",
   "execution_count": 43,
   "metadata": {},
   "outputs": [
    {
     "data": {
      "text/html": [
       "<div>\n",
       "<style scoped>\n",
       "    .dataframe tbody tr th:only-of-type {\n",
       "        vertical-align: middle;\n",
       "    }\n",
       "\n",
       "    .dataframe tbody tr th {\n",
       "        vertical-align: top;\n",
       "    }\n",
       "\n",
       "    .dataframe thead th {\n",
       "        text-align: right;\n",
       "    }\n",
       "</style>\n",
       "<table border=\"1\" class=\"dataframe\">\n",
       "  <thead>\n",
       "    <tr style=\"text-align: right;\">\n",
       "      <th>platform</th>\n",
       "      <th>3ds</th>\n",
       "      <th>ps3</th>\n",
       "      <th>ps4</th>\n",
       "      <th>x360</th>\n",
       "      <th>xone</th>\n",
       "    </tr>\n",
       "    <tr>\n",
       "      <th>year_of_release</th>\n",
       "      <th></th>\n",
       "      <th></th>\n",
       "      <th></th>\n",
       "      <th></th>\n",
       "      <th></th>\n",
       "    </tr>\n",
       "  </thead>\n",
       "  <tbody>\n",
       "    <tr>\n",
       "      <td>2012</td>\n",
       "      <td>51.36</td>\n",
       "      <td>107.36</td>\n",
       "      <td>nan</td>\n",
       "      <td>99.74</td>\n",
       "      <td>nan</td>\n",
       "    </tr>\n",
       "    <tr>\n",
       "      <td>2013</td>\n",
       "      <td>56.57</td>\n",
       "      <td>113.25</td>\n",
       "      <td>25.99</td>\n",
       "      <td>88.58</td>\n",
       "      <td>18.96</td>\n",
       "    </tr>\n",
       "    <tr>\n",
       "      <td>2014</td>\n",
       "      <td>43.76</td>\n",
       "      <td>47.76</td>\n",
       "      <td>100.00</td>\n",
       "      <td>34.74</td>\n",
       "      <td>54.07</td>\n",
       "    </tr>\n",
       "    <tr>\n",
       "      <td>2015</td>\n",
       "      <td>27.78</td>\n",
       "      <td>16.82</td>\n",
       "      <td>118.90</td>\n",
       "      <td>11.96</td>\n",
       "      <td>60.14</td>\n",
       "    </tr>\n",
       "    <tr>\n",
       "      <td>2016</td>\n",
       "      <td>15.14</td>\n",
       "      <td>3.60</td>\n",
       "      <td>69.25</td>\n",
       "      <td>1.52</td>\n",
       "      <td>26.15</td>\n",
       "    </tr>\n",
       "  </tbody>\n",
       "</table>\n",
       "</div>"
      ],
      "text/plain": [
       "platform          3ds    ps3    ps4  x360  xone\n",
       "year_of_release                                \n",
       "2012            51.36 107.36    nan 99.74   nan\n",
       "2013            56.57 113.25  25.99 88.58 18.96\n",
       "2014            43.76  47.76 100.00 34.74 54.07\n",
       "2015            27.78  16.82 118.90 11.96 60.14\n",
       "2016            15.14   3.60  69.25  1.52 26.15"
      ]
     },
     "execution_count": 43,
     "metadata": {},
     "output_type": "execute_result"
    }
   ],
   "source": [
    "df.query('platform == @top_platform_new & year_of_release >= 2012 & year_of_release != 2099')\\\n",
    "                    .pivot_table(index='year_of_release', columns='platform', values='sales_total', aggfunc='sum')"
   ]
  },
  {
   "cell_type": "markdown",
   "metadata": {},
   "source": [
    "Как мы видем по сводной таблице:\n",
    "- ps3 уже идет на спад и на нее не нужно делать ставку (это и логично, т.к. она уже и не актуальна)\n",
    "- x360 уже так же утратило свою актуальность, она была на пике в 2012 году и пошла на спад\n",
    "\n",
    "Могу выделить 3 прибыльные платформы на которые сделать акцент - 3ds, ps4, xone"
   ]
  },
  {
   "cell_type": "markdown",
   "metadata": {},
   "source": [
    "#### Постройте график «ящик с усами» по глобальным продажам игр в разбивке по платформам. Опишите результат."
   ]
  },
  {
   "cell_type": "code",
   "execution_count": 44,
   "metadata": {},
   "outputs": [
    {
     "data": {
      "text/plain": [
       "(-0.1, 1.1)"
      ]
     },
     "execution_count": 44,
     "metadata": {},
     "output_type": "execute_result"
    },
    {
     "data": {
      "image/png": "[encoded data removed]",
      "text/plain": [
       "<Figure size 360x360 with 1 Axes>"
      ]
     },
     "metadata": {
      "needs_background": "light"
     },
     "output_type": "display_data"
    }
   ],
   "source": [
    "df['sales_total'].plot.box(figsize=(5,5))\n",
    "plt.ylim(-0.1, 1.10)"
   ]
  },
  {
   "cell_type": "code",
   "execution_count": 45,
   "metadata": {},
   "outputs": [
    {
     "data": {
      "text/plain": [
       "count   16,715.00\n",
       "mean         0.53\n",
       "std          1.55\n",
       "min          0.00\n",
       "25%          0.06\n",
       "50%          0.17\n",
       "75%          0.47\n",
       "max         82.54\n",
       "Name: sales_total, dtype: float64"
      ]
     },
     "execution_count": 45,
     "metadata": {},
     "output_type": "execute_result"
    }
   ],
   "source": [
    "df['sales_total'].describe()"
   ]
  },
  {
   "cell_type": "markdown",
   "metadata": {},
   "source": [
    "Продажи игр достигают до 1,1 млн долларов. Медиана - 0,17 млн $."
   ]
  },
  {
   "cell_type": "markdown",
   "metadata": {},
   "source": [
    "#### Boxplot по наиболее популярным на конец 2016 года платформам"
   ]
  },
  {
   "cell_type": "code",
   "execution_count": 46,
   "metadata": {},
   "outputs": [
    {
     "data": {
      "text/plain": [
       "(-0.25, 1.8)"
      ]
     },
     "execution_count": 46,
     "metadata": {},
     "output_type": "execute_result"
    },
    {
     "data": {
      "image/png": "[encoded data removed]",
      "text/plain": [
       "<Figure size 432x288 with 1 Axes>"
      ]
     },
     "metadata": {
      "needs_background": "light"
     },
     "output_type": "display_data"
    }
   ],
   "source": [
    "column_list1 = ['ps4', 'xone', '3ds']\n",
    "df_1 = df.query('platform == @column_list1')\n",
    "sns.boxplot(x=\"platform\", y=\"sales_total\", data=df_1, palette='rainbow')\n",
    "plt.ylim(-0.25, 1.8)"
   ]
  },
  {
   "cell_type": "code",
   "execution_count": 47,
   "metadata": {},
   "outputs": [
    {
     "data": {
      "text/html": [
       "<div>\n",
       "<style scoped>\n",
       "    .dataframe tbody tr th:only-of-type {\n",
       "        vertical-align: middle;\n",
       "    }\n",
       "\n",
       "    .dataframe tbody tr th {\n",
       "        vertical-align: top;\n",
       "    }\n",
       "\n",
       "    .dataframe thead th {\n",
       "        text-align: right;\n",
       "    }\n",
       "</style>\n",
       "<table border=\"1\" class=\"dataframe\">\n",
       "  <thead>\n",
       "    <tr style=\"text-align: right;\">\n",
       "      <th></th>\n",
       "      <th>mean</th>\n",
       "      <th>median</th>\n",
       "      <th>sum</th>\n",
       "    </tr>\n",
       "    <tr>\n",
       "      <th>platform</th>\n",
       "      <th></th>\n",
       "      <th></th>\n",
       "      <th></th>\n",
       "    </tr>\n",
       "  </thead>\n",
       "  <tbody>\n",
       "    <tr>\n",
       "      <td>3ds</td>\n",
       "      <td>0.50</td>\n",
       "      <td>0.12</td>\n",
       "      <td>259.00</td>\n",
       "    </tr>\n",
       "    <tr>\n",
       "      <td>ps4</td>\n",
       "      <td>0.80</td>\n",
       "      <td>0.20</td>\n",
       "      <td>314.14</td>\n",
       "    </tr>\n",
       "    <tr>\n",
       "      <td>xone</td>\n",
       "      <td>0.65</td>\n",
       "      <td>0.22</td>\n",
       "      <td>159.32</td>\n",
       "    </tr>\n",
       "  </tbody>\n",
       "</table>\n",
       "</div>"
      ],
      "text/plain": [
       "          mean  median    sum\n",
       "platform                     \n",
       "3ds       0.50    0.12 259.00\n",
       "ps4       0.80    0.20 314.14\n",
       "xone      0.65    0.22 159.32"
      ]
     },
     "execution_count": 47,
     "metadata": {},
     "output_type": "execute_result"
    }
   ],
   "source": [
    "df.query('platform == @column_list1')\\\n",
    "    .pivot_table(index='platform', values='sales_total', aggfunc=('median', 'mean', 'sum'))"
   ]
  },
  {
   "cell_type": "markdown",
   "metadata": {},
   "source": [
    "- PS4 - продажи достигают до 1,75 млн долларов. Межквартальный размах больше, чем у платформ 3DS и XOne. Так же видим, что у платформы PS4 датасет сильнее скошен вправо. Через этот канал приходят те, кто тратит на игры, больше медианного значения. Поэтому среднее значение у данной платформы самое большое - 0,8 млн доллоров, медиана 0,2 млн доллоров.\n",
    "\n",
    "- XOne - продажи достигают до 1,58 млн долларов. Межквартальный размах меньше, чем у платформы PS4. Датасет скошен вправо, но меньше, чем у платформы PS4. Среднее значение у данной платформы ниже, чем у PS4 - 0,65 млн доллоров, а медиана больше - 0,22 млн доллоров.\n",
    "\n",
    "- на третьем месте платформа 3DS. Продажи достигают до 0,75 млн доллоров. Среднее значение - 0,50 млн долларов, медиана 0,12 млн долларов.\n",
    "\n",
    "Результаты по платформам PS4 и XOne превышают показатели по глобальным продажам каждой игры . Результаты по платформе 3DS ниже, чем показатели по глобальным продажам каждой игры."
   ]
  },
  {
   "cell_type": "markdown",
   "metadata": {},
   "source": [
    "#### Посмотрите, как влияют на продажи внутри одной популярной платформы отзывы пользователей и критиков. Постройте диаграмму рассеяния и посчитайте корреляцию между отзывами и продажами. Сформулируйте выводы."
   ]
  },
  {
   "cell_type": "code",
   "execution_count": 48,
   "metadata": {},
   "outputs": [
    {
     "data": {
      "text/plain": [
       "<matplotlib.axes._subplots.AxesSubplot at 0x7fb421a48ad0>"
      ]
     },
     "execution_count": 48,
     "metadata": {},
     "output_type": "execute_result"
    },
    {
     "data": {
      "image/png": "[encoded data removed]",
      "text/plain": [
       "<Figure size 432x288 with 1 Axes>"
      ]
     },
     "metadata": {
      "needs_background": "light"
     },
     "output_type": "display_data"
    }
   ],
   "source": [
    "df_ps4 = df.query('platform == \"ps4\"')\n",
    "sns.regplot(x='critic_score', y='sales_total',data=df_ps4, x_bins=20, scatter_kws={'s':15})"
   ]
  },
  {
   "cell_type": "code",
   "execution_count": 49,
   "metadata": {},
   "outputs": [
    {
     "data": {
      "text/plain": [
       "0.22652606614612347"
      ]
     },
     "execution_count": 49,
     "metadata": {},
     "output_type": "execute_result"
    }
   ],
   "source": [
    "df_ps4['critic_score'].corr(df_ps4['sales_total'])"
   ]
  },
  {
   "cell_type": "markdown",
   "metadata": {},
   "source": [
    "На графике мы видим зависимость: с ростом первой величины (отзыв критиков) \n",
    "растет вторая величина (продажи). Т.е., чем выше отзывы критиков, тем больше продажи.\n",
    "\n",
    "Коэффициент Пирсона равен 0,23. Чем ближе коэффициент Пирсона к значению 1, тем\n",
    "сильнее взамосвязь."
   ]
  },
  {
   "cell_type": "code",
   "execution_count": 50,
   "metadata": {},
   "outputs": [
    {
     "data": {
      "text/plain": [
       "<matplotlib.axes._subplots.AxesSubplot at 0x7fb4219e8790>"
      ]
     },
     "execution_count": 50,
     "metadata": {},
     "output_type": "execute_result"
    },
    {
     "data": {
      "image/png": "[encoded data removed]",
      "text/plain": [
       "<Figure size 432x288 with 1 Axes>"
      ]
     },
     "metadata": {
      "needs_background": "light"
     },
     "output_type": "display_data"
    }
   ],
   "source": [
    "df_ps4 = df.query('platform == \"ps4\"')\n",
    "sns.regplot(x='user_score', y='sales_total',data=df_ps4, x_bins=20, scatter_kws={'s':15})"
   ]
  },
  {
   "cell_type": "code",
   "execution_count": 51,
   "metadata": {},
   "outputs": [
    {
     "data": {
      "text/plain": [
       "0.1159614931286009"
      ]
     },
     "execution_count": 51,
     "metadata": {},
     "output_type": "execute_result"
    }
   ],
   "source": [
    "df_ps4['user_score'].corr(df_ps4['sales_total'])"
   ]
  },
  {
   "cell_type": "markdown",
   "metadata": {},
   "source": [
    "На графике мы видим зависимость: с ростом первой величины (отзыв пользователей)\n",
    "растет вторая величина (продажи). Т.е., чем выше отзывы пользователей, тем больше продажи.\n",
    "\n",
    "Коэффициент Пирсона равен 0,11. Чем ближе коэффициент Пирсона к значению 1, \n",
    "тем сильнее взамосвязь.\n",
    "\n",
    "Оценка пользователей оказывает меньше влияния на продажи, чем оценка критиков."
   ]
  },
  {
   "cell_type": "markdown",
   "metadata": {},
   "source": [
    "#### Посмотрите на общее распределение игр по жанрам. Что можно сказать о самых прибыльных жанрах? Выделяются ли жанры с высокими и низкими продажами?"
   ]
  },
  {
   "cell_type": "code",
   "execution_count": 52,
   "metadata": {},
   "outputs": [
    {
     "data": {
      "text/plain": [
       "Text(0.5, 1.0, 'Количество продаж по жанрам')"
      ]
     },
     "execution_count": 52,
     "metadata": {},
     "output_type": "execute_result"
    },
    {
     "data": {
      "image/png": "[encoded data removed]",
      "text/plain": [
       "<Figure size 1440x360 with 1 Axes>"
      ]
     },
     "metadata": {
      "needs_background": "light"
     },
     "output_type": "display_data"
    }
   ],
   "source": [
    "df.pivot_table(index='game_genre', values='sales_total', aggfunc='count')\\\n",
    "    .sort_values(by='sales_total', ascending=False)\\\n",
    "    .plot(kind='bar', grid=True, figsize=(20, 5))\n",
    "plt.title('Количество продаж по жанрам')"
   ]
  },
  {
   "cell_type": "markdown",
   "metadata": {},
   "source": [
    "Больше всего выпускается игр жанра Action.\n",
    "Число игр с этим жанром сильно превышает остальные.\n",
    "\n",
    "На втором месте по количеству игр жанры:\n",
    "Role-Playing, Adventure, Sports, Misc и Shooter.\n",
    "\n",
    "На третьем месте по количеству игр жанры:\n",
    "Racing, Fighting, Simulation, Platform, Strategy, Puzzle "
   ]
  },
  {
   "cell_type": "code",
   "execution_count": 53,
   "metadata": {},
   "outputs": [
    {
     "data": {
      "text/plain": [
       "Text(0.5, 1.0, 'Сумма продаж по жанрам')"
      ]
     },
     "execution_count": 53,
     "metadata": {},
     "output_type": "execute_result"
    },
    {
     "data": {
      "image/png": "[encoded data removed]",
      "text/plain": [
       "<Figure size 1440x360 with 1 Axes>"
      ]
     },
     "metadata": {
      "needs_background": "light"
     },
     "output_type": "display_data"
    }
   ],
   "source": [
    "df.pivot_table(index='game_genre', values='sales_total', aggfunc='sum')\\\n",
    "    .sort_values(by='sales_total', ascending=False)\\\n",
    "    .plot(kind='bar', grid=True, figsize=(20, 5))\n",
    "plt.title('Сумма продаж по жанрам')"
   ]
  },
  {
   "cell_type": "markdown",
   "metadata": {},
   "source": [
    "Жанры с высокими продажами:\n",
    "Action, Shooter, Role-Playing, Sports.\n",
    "\n",
    "Жанры с  низкими продажами:\n",
    "Misc, Platform, Racing, Fighting, Simulation, Adventure, Strategy, Puzzle \n",
    "\n",
    "Таким образом, в жанре Action выпускается больше всего игр и они приносят больше\n",
    "всего дохода."
   ]
  },
  {
   "cell_type": "markdown",
   "metadata": {},
   "source": [
    "### Шаг 4. Составьте портрет пользователя каждого региона"
   ]
  },
  {
   "cell_type": "markdown",
   "metadata": {},
   "source": [
    "#### Определите для пользователя каждого региона (NA, EU, JP):\n",
    "- Самые популярные платформы (топ-5). Опишите различия в долях продаж.\n",
    "- Самые популярные жанры (топ-5). Поясните разницу.\n",
    "- Влияет ли рейтинг ESRB на продажи в отдельном регионе?"
   ]
  },
  {
   "cell_type": "markdown",
   "metadata": {},
   "source": [
    "#### Самые популярные платформы (топ-5). Опишите различия в долях продаж."
   ]
  },
  {
   "cell_type": "code",
   "execution_count": 54,
   "metadata": {},
   "outputs": [
    {
     "data": {
      "text/plain": [
       "Text(0.5, 1.0, 'Japan Sales')"
      ]
     },
     "execution_count": 54,
     "metadata": {},
     "output_type": "execute_result"
    },
    {
     "data": {
      "image/png": "[encoded data removed]",
      "text/plain": [
       "<Figure size 1080x432 with 3 Axes>"
      ]
     },
     "metadata": {
      "needs_background": "light"
     },
     "output_type": "display_data"
    }
   ],
   "source": [
    "fig, axes = plt.subplots(1, 3, figsize=(15,6))\n",
    "df.groupby('platform')['sales_na_mil']\\\n",
    "    .agg(['sum']).sort_values('sum',ascending=False).head().plot(kind='bar', grid=True, ax=axes[0], )\n",
    "df.groupby('platform')['sales_eu_mil']\\\n",
    "    .agg(['sum']).sort_values('sum',ascending=False).head().plot(kind='bar', grid=True, ax=axes[1], color='teal')\n",
    "df.groupby('platform')['sales_jp_mil']\\\n",
    "    .agg(['sum']).sort_values('sum',ascending=False).head().plot(kind='bar', grid=True, ax=axes[2], color='slateblue')\n",
    "\n",
    "axes[0].set_title('North America Sales')\n",
    "axes[1].set_title('Europe Sales')\n",
    "axes[2].set_title('Japan Sales')"
   ]
  },
  {
   "cell_type": "markdown",
   "metadata": {},
   "source": [
    "В С.Америке на первом месте платформа - Х360 \n",
    "\n",
    "В Европе на первом месте платформа - PS2 \n",
    "\n",
    "В Японии один явный лидер - платформа DS"
   ]
  },
  {
   "cell_type": "markdown",
   "metadata": {},
   "source": [
    "#### Самые популярные жанры (топ-5). Поясните разницу."
   ]
  },
  {
   "cell_type": "code",
   "execution_count": 55,
   "metadata": {},
   "outputs": [
    {
     "data": {
      "text/plain": [
       "Text(0.5, 1.0, 'Japan Sales')"
      ]
     },
     "execution_count": 55,
     "metadata": {},
     "output_type": "execute_result"
    },
    {
     "data": {
      "image/png": "[encoded data removed]",
      "text/plain": [
       "<Figure size 1080x432 with 3 Axes>"
      ]
     },
     "metadata": {
      "needs_background": "light"
     },
     "output_type": "display_data"
    }
   ],
   "source": [
    "fig, axes = plt.subplots(1, 3, figsize=(15,6))\n",
    "df.groupby('game_genre')['sales_na_mil']\\\n",
    "    .agg(['sum']).sort_values('sum',ascending=False).head().plot(kind='bar', grid=True, ax=axes[0], )\n",
    "df.groupby('game_genre')['sales_eu_mil']\\\n",
    "    .agg(['sum']).sort_values('sum',ascending=False).head().plot(kind='bar', grid=True, ax=axes[1], color='teal')\n",
    "df.groupby('game_genre')['sales_jp_mil']\\\n",
    "    .agg(['sum']).sort_values('sum',ascending=False).head().plot(kind='bar', grid=True, ax=axes[2], color='slateblue')\n",
    "\n",
    "axes[0].set_title('North America Sales')\n",
    "axes[1].set_title('Europe Sales')\n",
    "axes[2].set_title('Japan Sales')"
   ]
  },
  {
   "cell_type": "markdown",
   "metadata": {},
   "source": [
    "Четыре самые первые популярные жанры в С.Америке полностью совпали с популярнами жанрами в Европе.\n",
    "Отличие только в 4 месте: в С.Америке это - Platform, в Европе  - это Misc.\n",
    "\n",
    "Совсем по другому выглядят предпочтения в Японии жанра на 1 месте.\n",
    "На первом месте - Role-Playing, в остальном, жанры которые предпочитают в С.Америке и Европе совпадают."
   ]
  },
  {
   "cell_type": "markdown",
   "metadata": {},
   "source": [
    "#### Влияет ли рейтинг ESRB на продажи в отдельном регионе?"
   ]
  },
  {
   "cell_type": "markdown",
   "metadata": {},
   "source": [
    "#### Расшифровка рейтинга ESRB\n",
    "\n",
    "- «E» (Everyone) — Для всех\n",
    "- «E10+» («Everyone 10 and older») — Для всех старше 10 лет\n",
    "- «T» (Teen) — Подросткам 13—19 лет\n",
    "- «M» (Mature) — От 17 лет\n",
    "- «K-A» (Kids to Adults)— Для детей и взрослых, т.е. это аналог «E»\n",
    "- «AO» (Adults Only 18+) — Только для взрослых\n",
    "- «EC» (early childhood) – игра предназначена специально для детей младшего возраста (от 3 лет),\n",
    "- «RP» (Rating Pending)- Рейтинг ожидается\n",
    "\n",
    "Объединим категории «E» и «K-A»"
   ]
  },
  {
   "cell_type": "code",
   "execution_count": 56,
   "metadata": {},
   "outputs": [
    {
     "data": {
      "text/plain": [
       "no_esrb    6766\n",
       "e          3990\n",
       "t          2961\n",
       "m          1563\n",
       "e10+       1420\n",
       "ec            8\n",
       "rp            3\n",
       "k-a           3\n",
       "ao            1\n",
       "Name: rating_esrb, dtype: int64"
      ]
     },
     "execution_count": 56,
     "metadata": {},
     "output_type": "execute_result"
    }
   ],
   "source": [
    "df['rating_esrb'].value_counts()"
   ]
  },
  {
   "cell_type": "code",
   "execution_count": 57,
   "metadata": {},
   "outputs": [
    {
     "data": {
      "text/plain": [
       "no_esrb    6766\n",
       "e          3993\n",
       "t          2961\n",
       "m          1563\n",
       "e10+       1420\n",
       "ec            8\n",
       "rp            3\n",
       "ao            1\n",
       "Name: rating_esrb, dtype: int64"
      ]
     },
     "execution_count": 57,
     "metadata": {},
     "output_type": "execute_result"
    }
   ],
   "source": [
    "df['rating_esrb'].replace('k-a', 'e').value_counts()"
   ]
  },
  {
   "cell_type": "code",
   "execution_count": 58,
   "metadata": {},
   "outputs": [
    {
     "data": {
      "text/plain": [
       "Text(0.5, 1.0, 'Japan Sales')"
      ]
     },
     "execution_count": 58,
     "metadata": {},
     "output_type": "execute_result"
    },
    {
     "data": {
      "image/png": "[encoded data removed]",
      "text/plain": [
       "<Figure size 1080x432 with 3 Axes>"
      ]
     },
     "metadata": {
      "needs_background": "light"
     },
     "output_type": "display_data"
    }
   ],
   "source": [
    "fig, axes = plt.subplots(1, 3, figsize=(15,6))\n",
    "df.groupby('rating_esrb')['sales_na_mil']\\\n",
    "    .agg(['sum']).sort_values('sum',ascending=False).head().plot(kind='bar', grid=True, ax=axes[0], )\n",
    "df.groupby('rating_esrb')['sales_eu_mil']\\\n",
    "    .agg(['sum']).sort_values('sum',ascending=False).head().plot(kind='bar', grid=True, ax=axes[1], color='teal')\n",
    "df.groupby('rating_esrb')['sales_jp_mil']\\\n",
    "    .agg(['sum']).sort_values('sum',ascending=False).head().plot(kind='bar', grid=True, ax=axes[2], color='slateblue')\n",
    "\n",
    "axes[0].set_title('North America Sales')\n",
    "axes[1].set_title('Europe Sales')\n",
    "axes[2].set_title('Japan Sales')"
   ]
  },
  {
   "cell_type": "markdown",
   "metadata": {},
   "source": [
    "Графики с рейтингами С.Америки и Европы очень похожи. Совпали первые две позиции.\n",
    "В обоих регионам отдают предпочтения играм с категорией «У» (Mature) — От 17 лет.\n",
    "На втором месте игры с категорией «E» - т.е. для всех.\n",
    "На второе место попали игры, у которых рейтинг не определен.\n",
    "\n",
    "На четвертом и пятом месте игры  \"Для всех старше 10 лет\" и \"От 17 лет\".\n",
    "И в том и другом графике разница между двумя этими категориями не значительная.\n",
    "\n",
    "В Японии самые популярные игры, у которых рейтинг не определен.\n",
    "Это могло произойти из-за того, что ESRB — негосударственная организация, основное\n",
    "направление деятельности которой — принятие и определение рейтингов для компьютерных\n",
    "видеоигр и другого развлекательного программного обеспечения в США и Канаде.\n",
    "Это организация может быть не знакома с продуктами из Японии. "
   ]
  },
  {
   "cell_type": "markdown",
   "metadata": {},
   "source": [
    "### Шаг 5. Проверьте гипотезы"
   ]
  },
  {
   "cell_type": "markdown",
   "metadata": {},
   "source": [
    "- Средние пользовательские рейтинги платформ Xbox One и PC одинаковые;\n",
    "- Средние пользовательские рейтинги жанров Action (англ. «действие», экшен-игры) и Sports (англ. «спортивные соревнования») разные.\n",
    "\n",
    "Задайте самостоятельно пороговое значение alpha.\n",
    "\n",
    "Поясните:\n",
    "\n",
    "- Как вы сформулировали нулевую и альтернативную гипотезы;\n",
    "- Какой критерий применили для проверки гипотез и почему."
   ]
  },
  {
   "cell_type": "markdown",
   "metadata": {},
   "source": [
    "**Средние пользовательские рейтинги платформ Xbox One и PC одинаковые**\n",
    "\n",
    "**H0 (Нулевая гипотеза):** Средние пользовательские рейтинги платформ Xbox One и PC одинаковые;\n",
    "\n",
    "**H0 (Альтернативная гипотеза):** Средние пользовательские рейтинги платформ Xbox One и PC не одинаковые.\n",
    "\n",
    "Пороговое значение alpha = 0.05"
   ]
  },
  {
   "cell_type": "code",
   "execution_count": 59,
   "metadata": {},
   "outputs": [],
   "source": [
    "df_xone = df[(df['platform'] == 'xone')]\n",
    "df_pc = df[(df['platform'] == 'pc')]"
   ]
  },
  {
   "cell_type": "markdown",
   "metadata": {},
   "source": [
    "Подскажи, пожалуйста, почему я не смог выделить срез методом:\n",
    "\n",
    "df.query('platform == xone')"
   ]
  },
  {
   "cell_type": "code",
   "execution_count": 60,
   "metadata": {},
   "outputs": [
    {
     "name": "stdout",
     "output_type": "stream",
     "text": [
      "count   247.00\n",
      "mean      0.65\n",
      "std       1.04\n",
      "min       0.01\n",
      "25%       0.06\n",
      "50%       0.22\n",
      "75%       0.69\n",
      "max       7.39\n",
      "Name: sales_total, dtype: float64\n",
      "count   974.00\n",
      "mean      0.27\n",
      "std       0.68\n",
      "min       0.01\n",
      "25%       0.02\n",
      "50%       0.05\n",
      "75%       0.17\n",
      "max       8.01\n",
      "Name: sales_total, dtype: float64\n"
     ]
    }
   ],
   "source": [
    "print(df_xone['sales_total'].describe())\n",
    "print(df_pc['sales_total'].describe())"
   ]
  },
  {
   "cell_type": "code",
   "execution_count": 61,
   "metadata": {},
   "outputs": [
    {
     "name": "stdout",
     "output_type": "stream",
     "text": [
      "p-значение: 1.0196533966248761e-07\n",
      "отвергаем гипотезу\n"
     ]
    }
   ],
   "source": [
    "alpha = 0.05\n",
    "results = st.ttest_ind(df_xone['sales_total'], df_pc['sales_total'], equal_var = False)\n",
    "\n",
    "print('p-значение:', results.pvalue)\n",
    "\n",
    "if (results.pvalue < alpha):\n",
    "    print ('отвергаем гипотезу')\n",
    "else:\n",
    "    print ('не получилось отвергнуть гипотезу')"
   ]
  },
  {
   "cell_type": "markdown",
   "metadata": {},
   "source": [
    "Гипотеза не подтвердилась, у нас есть основания ее отвергнуть.\n",
    "Таким образом, cредний пользовательский рейтинг платформы Xbox One отличается от cреднего\n",
    "пользовательского рейтинга платформы PC."
   ]
  },
  {
   "cell_type": "markdown",
   "metadata": {},
   "source": [
    "**Средние пользовательские рейтинги жанров Action (англ. «действие», экшен-игры) и Sports (англ. «спортивные соревнования») разные.**\n",
    "\n",
    "**H0 (Нулевая гипотеза):** Средние пользовательские рейтинги жанров Action (англ. «действие», экшен-игры) и Sports (англ. «спортивные соревнования») разные;\n",
    "\n",
    "**H0 (Альтернативная гипотеза):** Средние пользовательские рейтинги жанров Action (англ. «действие», экшен-игры) и Sports (англ. «спортивные соревнования») не разные."
   ]
  },
  {
   "cell_type": "code",
   "execution_count": 62,
   "metadata": {},
   "outputs": [],
   "source": [
    "df_action = df[(df['game_genre'] == 'action')]\n",
    "df_sports = df[(df['game_genre'] == 'sports')]"
   ]
  },
  {
   "cell_type": "code",
   "execution_count": 63,
   "metadata": {},
   "outputs": [
    {
     "name": "stdout",
     "output_type": "stream",
     "text": [
      "p-значение: 1.1705362926146342e-08\n",
      "отвергаем гипотезу\n"
     ]
    }
   ],
   "source": [
    "alpha = 0.05\n",
    "results = st.ttest_ind(df_action['user_score'], df_sports['user_score'], equal_var = False)\n",
    "\n",
    "print('p-значение:', results.pvalue)\n",
    "\n",
    "if (results.pvalue < alpha):\n",
    "    print ('отвергаем гипотезу')\n",
    "else:\n",
    "    print ('не получилось отвергнуть гипотезу')"
   ]
  },
  {
   "cell_type": "markdown",
   "metadata": {},
   "source": [
    "Отвергаем нулевую гипотезу.\n",
    "Средние пользовательские рейтинги жанров Action и Sports одинаковые."
   ]
  },
  {
   "cell_type": "markdown",
   "metadata": {},
   "source": [
    "### Шаг 6. Напишите общий вывод"
   ]
  },
  {
   "cell_type": "markdown",
   "metadata": {},
   "source": [
    "С 2010 года начинается спад по количеству выпускаемых игр в год и по общим продажам. Это может быть связано с тем, что мобильные игры вытесняют консольные и компьютерные. Половина всей прибыли в игровой индустрии приходиться как раз-таки на игры для мобильных устройств. Согласно аналитическим данным Newzoo, отрыв мобильных игр от консольных, браузерных и компьютерных будет только увеличиваться с каждым годом."
   ]
  },
  {
   "cell_type": "markdown",
   "metadata": {},
   "source": [
    "В среднем платформы исчезают через 10-12 лет после выпуска. Платформы, на которые нужно сделать акцент в следующем году:\n",
    "\n",
    "- PS4 - продажи за последние 5 лет - 314.14 млн.\n",
    "- XOne - продажи за последние 5 лет - 159.32 млн.\n",
    "- 3DS - продажи за последние 5 лет - 259.00 млн."
   ]
  },
  {
   "cell_type": "markdown",
   "metadata": {},
   "source": [
    "Оценка критиков оказывает больше влияния на продажи, чем оценка пользователей."
   ]
  },
  {
   "cell_type": "markdown",
   "metadata": {},
   "source": [
    "- Жанры с высокими продажами: Action, Shooter, Role-Playing, Sports.\n",
    "- Больше всего выпускается игр жанра Action. Число игр с этим жанром сильно превышает остальные."
   ]
  },
  {
   "cell_type": "markdown",
   "metadata": {},
   "source": [
    "Если смотреть портрет пользователя по регионам, то предпочтения в С.Америке очень близки к предпочтеним в Европе. Есть отличия по предпочтениям в Японии.\n",
    "\n",
    "Топ-3 жанров в С.Америке и Европе одинаковый: Action, Shooter, Sports.\n",
    "\n",
    "В Японии на первом месте - Role-Playing, остальные жанры в одном диапазоне.\n",
    "\n",
    "Разными оказались в регионах предпочтения по платформам:\n",
    "\n",
    "- В С.Америке на первом месте платформа - Х360 \n",
    "- В Европе на первом месте платформа - PS3 \n",
    "- В Японии один явный лидер - платформа 3DS, которая в С.Америке и Европе занимает 4 и 5 место соответственно.\n",
    "\n",
    "Топ-3 категорий игр по рейтингу ESRB в С.Америке и Европе одинаковый: первое место - «Е» (от 17 лет), второе место - «no_rating», на тертьем месте игры разнаятся, у С.Америки \"t\" у Европы \"m\".\n",
    "\n",
    "В Японии самые популярные игры, у которых рейтинг не определен. Это могло произойти из-за того, что ESRB — негосударственная организация, определяющая рейтинги для компьютерных видеоигр и другого развлекательного программного обеспечения в США и Канаде. Это организация может быть не знакома с продуктами из Японии."
   ]
  }
 ],
 "metadata": {
  "kernelspec": {
   "display_name": "Python 3",
   "language": "python",
   "name": "python3"
  },
  "language_info": {
   "codemirror_mode": {
    "name": "ipython",
    "version": 3
   },
   "file_extension": ".py",
   "mimetype": "text/x-python",
   "name": "python",
   "nbconvert_exporter": "python",
   "pygments_lexer": "ipython3",
   "version": "3.8.5"
  }
 },
 "nbformat": 4,
 "nbformat_minor": 2
}
